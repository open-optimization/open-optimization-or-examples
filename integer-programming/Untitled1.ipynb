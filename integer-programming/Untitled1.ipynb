{
 "cells": [
  {
   "cell_type": "code",
   "execution_count": 10,
   "metadata": {},
   "outputs": [
    {
     "name": "stdout",
     "output_type": "stream",
     "text": [
      "Gurobi Optimizer version 10.0.2 build v10.0.2rc0 (mac64[x86])\n",
      "\n",
      "CPU model: Intel(R) Core(TM) i7-9750H CPU @ 2.60GHz\n",
      "Thread count: 6 physical cores, 12 logical processors, using up to 12 threads\n",
      "\n",
      "Optimize a model with 1 rows, 7 columns and 7 nonzeros\n",
      "Model fingerprint: 0x141949f5\n",
      "Coefficient statistics:\n",
      "  Matrix range     [5e+00, 3e+01]\n",
      "  Objective range  [7e+01, 2e+02]\n",
      "  Bounds range     [1e+00, 1e+00]\n",
      "  RHS range        [8e+01, 8e+01]\n",
      "Presolve time: 0.00s\n",
      "Presolved: 1 rows, 7 columns, 7 nonzeros\n",
      "\n",
      "Iteration    Objective       Primal Inf.    Dual Inf.      Time\n",
      "       0    1.7600000e+03   1.500000e+01   0.000000e+00      0s\n",
      "       1    5.3333333e+02   0.000000e+00   0.000000e+00      0s\n",
      "\n",
      "Solved in 1 iterations and 0.01 seconds (0.00 work units)\n",
      "Optimal objective  5.333333333e+02\n",
      "Optimal solution found!\n",
      "Take 100.0% of Vintage Bordeaux\n",
      "Take 100.0% of California Chardonnay\n",
      "Take 100.0% of Italian Prosecco\n",
      "Take 100.0% of Spanish Cava\n",
      "Take 16.666666666666664% of Australian Shiraz\n",
      "Take 100.0% of German Riesling\n",
      "Take 0.0% of Chilean Merlot\n"
     ]
    }
   ],
   "source": [
    "from gurobipy import Model, GRB\n",
    "\n",
    "# Create a new model\n",
    "m = Model(\"wine_exhibition\")\n",
    "\n",
    "# Data\n",
    "wines = [\"Vintage Bordeaux\", \"California Chardonnay\", \"Italian Prosecco\", \"Spanish Cava\", \n",
    "         \"Australian Shiraz\", \"German Riesling\", \"Chilean Merlot\"]\n",
    "\n",
    "profits = [150, 100, 80, 70, 140, 110, 90]\n",
    "volumes = [25, 20, 15, 10, 30, 5, 20]\n",
    "max_volume = 80\n",
    "\n",
    "# Decision variables\n",
    "x = m.addVars(len(wines), vtype=GRB.CONTINUOUS, name=\"x\")\n",
    "\n",
    "# Objective: Maximize profit\n",
    "m.setObjective(sum(profits[i] * x[i] for i in range(len(wines))), GRB.MAXIMIZE)\n",
    "\n",
    "# Constraint: Total volume should not exceed max_volume\n",
    "m.addConstr(sum(volumes[i] * x[i] for i in range(len(wines))) <= max_volume, \"volume_constraint\")\n",
    "\n",
    "# Each wine can be taken between 0 and 1 (or its full volume)\n",
    "for i in range(len(wines)):\n",
    "    x[i].setAttr(GRB.Attr.LB, 0)\n",
    "    x[i].setAttr(GRB.Attr.UB, 1)\n",
    "\n",
    "# Solve the model\n",
    "m.optimize()\n",
    "\n",
    "# Display the solution\n",
    "if m.status == GRB.Status.OPTIMAL:\n",
    "    print(\"Optimal solution found!\")\n",
    "    for i in range(len(wines)):\n",
    "        print(f\"Take {x[i].x * 100}% of {wines[i]}\")\n",
    "else:\n",
    "    print(\"No solution found!\")\n",
    "\n"
   ]
  },
  {
   "cell_type": "code",
   "execution_count": null,
   "metadata": {},
   "outputs": [],
   "source": []
  }
 ],
 "metadata": {
  "kernelspec": {
   "display_name": "Python 3",
   "language": "python",
   "name": "python3"
  },
  "language_info": {
   "codemirror_mode": {
    "name": "ipython",
    "version": 3
   },
   "file_extension": ".py",
   "mimetype": "text/x-python",
   "name": "python",
   "nbconvert_exporter": "python",
   "pygments_lexer": "ipython3",
   "version": "3.7.7"
  }
 },
 "nbformat": 4,
 "nbformat_minor": 4
}
