{
 "cells": [
  {
   "cell_type": "markdown",
   "metadata": {},
   "source": [
    "## Load Data for Food Festival Problem\n",
    "This code demonstates how to load the relevant data for the food festival problem."
   ]
  },
  {
   "cell_type": "code",
   "execution_count": 1,
   "metadata": {},
   "outputs": [
    {
     "name": "stdout",
     "output_type": "stream",
     "text": [
      "{1: [2, 4, 6, 11, 17, 21, 22, 25], 2: [3, 7, 9, 14, 16, 17, 23], 3: [4, 9, 10, 11, 18, 19, 22, 23], 4: [8, 9, 10, 19, 20, 21, 24, 25], 5: [6, 10, 11, 13, 15, 16, 21, 22], 6: [8, 11, 12, 13, 14, 15, 16, 17, 18, 19], 7: [9, 10, 14, 15, 21, 22, 25], 8: [9, 10, 11, 15, 16, 24], 9: [12, 13, 15, 19, 21, 24], 10: [11, 14, 15, 16, 19, 22], 11: [12, 13, 15, 19, 20, 21, 25], 12: [14, 15, 16, 17, 18, 23], 13: [14, 16, 19, 23, 25], 14: [15, 17, 18, 22], 15: [16, 17, 23, 24, 25], 16: [18, 19, 20, 21, 24], 17: [19, 22, 24], 18: [20, 21], 19: [23, 24, 25], 20: [22, 25], 21: [22, 23, 24], 22: [24], 23: [24, 25], 24: [25]}\n"
     ]
    }
   ],
   "source": [
    "import csv\n",
    "\n",
    "def load_shifts_from_csv(filename):\n",
    "    shifts_dict = {}\n",
    "\n",
    "    with open(filename, 'r') as f:\n",
    "        reader = csv.reader(f)\n",
    "        # Skip the header\n",
    "        next(reader)\n",
    "\n",
    "        for row in reader:\n",
    "            shift = int(row[0])\n",
    "            conflicting_shifts = [int(x) for x in row[1:] if x]\n",
    "            shifts_dict[shift] = conflicting_shifts\n",
    "\n",
    "    return shifts_dict\n",
    "\n",
    "filename = \"food-festival-data.csv\"\n",
    "shifts_dict = load_shifts_from_csv(filename)\n",
    "print(shifts_dict)\n"
   ]
  },
  {
   "cell_type": "code",
   "execution_count": null,
   "metadata": {},
   "outputs": [],
   "source": []
  }
 ],
 "metadata": {
  "kernelspec": {
   "display_name": "Python 3",
   "language": "python",
   "name": "python3"
  },
  "language_info": {
   "codemirror_mode": {
    "name": "ipython",
    "version": 3
   },
   "file_extension": ".py",
   "mimetype": "text/x-python",
   "name": "python",
   "nbconvert_exporter": "python",
   "pygments_lexer": "ipython3",
   "version": "3.7.7"
  }
 },
 "nbformat": 4,
 "nbformat_minor": 4
}
