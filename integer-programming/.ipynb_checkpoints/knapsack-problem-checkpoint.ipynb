{
 "cells": [
  {
   "cell_type": "markdown",
   "metadata": {},
   "source": [
    "# Example Homework problem\n",
    "This is an example of a nice file to submit for a homework assignment.   You can submit all exercises in the same notebook, but just give headers to each problem.\n"
   ]
  },
  {
   "cell_type": "markdown",
   "metadata": {},
   "source": [
    "## Problem 1\n",
    "We model and solve the knapsack problem from class.   For this problem, we assume we have items labled 0,1,...,4 with associated values and weights, and a overall capacity for the knapsack."
   ]
  },
  {
   "cell_type": "code",
   "execution_count": 20,
   "metadata": {},
   "outputs": [
    {
     "name": "stdout",
     "output_type": "stream",
     "text": [
      "Read MIP start from file knapsack.mst\n",
      "Gurobi Optimizer version 9.0.3 build v9.0.3rc0 (mac64)\n",
      "Optimize a model with 1 rows, 5 columns and 5 nonzeros\n",
      "Model fingerprint: 0x8c0d768b\n",
      "Variable types: 0 continuous, 5 integer (5 binary)\n",
      "Coefficient statistics:\n",
      "  Matrix range     [1e+00, 1e+01]\n",
      "  Objective range  [1e+00, 1e+01]\n",
      "  Bounds range     [1e+00, 1e+00]\n",
      "  RHS range        [2e+01, 2e+01]\n",
      "\n",
      "Loaded user MIP start with objective 15\n",
      "\n",
      "Presolve removed 1 rows and 5 columns\n",
      "Presolve time: 0.00s\n",
      "Presolve: All rows and columns removed\n",
      "\n",
      "Explored 0 nodes (0 simplex iterations) in 0.01 seconds\n",
      "Thread count was 1 (of 12 available processors)\n",
      "\n",
      "Solution count 1: 15 \n",
      "\n",
      "Optimal solution found (tolerance 1.00e-04)\n",
      "Best objective 1.500000000000e+01, best bound 1.500000000000e+01, gap 0.0000%\n",
      "Optimal solution\n",
      "x[0]: 0\n",
      "x[1]: 1\n",
      "x[2]: 1\n",
      "x[3]: 1\n",
      "x[4]: 1\n",
      "Obj: 15\n"
     ]
    }
   ],
   "source": [
    "# Import Gurobi\n",
    "import gurobipy as gp\n",
    "from gurobipy import GRB\n",
    "\n",
    "# Create a new model\n",
    "m = gp.Model(\"Knapsack_Problem\")\n",
    "\n",
    "\n",
    "# Setup Data\n",
    "\n",
    "c = [4,2,2,1,10]  # value of each item\n",
    "w = [12,2,1,1,4]  # weight of each item\n",
    "W = 15 # capacity of the knapsack\n",
    "\n",
    "# Create sets\n",
    "n = len(c)   # read the number of items from the data\n",
    "I = range(n) # I = {0,1,...,n-1}\n",
    "\n",
    "\n",
    "# Create variables\n",
    "x = m.addVars(I, vtype=GRB.BINARY, name=\"x\")\n",
    "\n",
    "# Set objective\n",
    "m.setObjective(sum(c[i]*x[i] for i in I), GRB.MAXIMIZE)\n",
    "\n",
    "# Add capacity constraint:\n",
    "m.addConstr(sum(w[i]*x[i] for i in I) <= W, \"Capacity\")\n",
    "\n",
    "# Optimize model\n",
    "m.optimize()\n",
    "\n",
    "print(\"Optimal solution\")\n",
    "for v in m.getVars():\n",
    "    print('%s: %g' % (v.varName, v.x))\n",
    "\n",
    "print('Obj: %g' % m.objVal)\n"
   ]
  },
  {
   "cell_type": "markdown",
   "metadata": {},
   "source": [
    "## Solution\n",
    "\n",
    "The optimal solution is to take items 1,2,3, and 4.   This has an objective value of 15."
   ]
  },
  {
   "cell_type": "code",
   "execution_count": null,
   "metadata": {},
   "outputs": [],
   "source": []
  }
 ],
 "metadata": {
  "kernelspec": {
   "display_name": "Python 3",
   "language": "python",
   "name": "python3"
  },
  "language_info": {
   "codemirror_mode": {
    "name": "ipython",
    "version": 3
   },
   "file_extension": ".py",
   "mimetype": "text/x-python",
   "name": "python",
   "nbconvert_exporter": "python",
   "pygments_lexer": "ipython3",
   "version": "3.8.3"
  }
 },
 "nbformat": 4,
 "nbformat_minor": 2
}
