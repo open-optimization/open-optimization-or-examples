{
 "cells": [
  {
   "cell_type": "raw",
   "metadata": {},
   "source": [
    "Please write a python script to solve a binary knapsack problem with costs c_i and weights w_i with capacity W.  Please use gurobipy.  Please provide some initial sample data for the problem using 7 variables."
   ]
  },
  {
   "cell_type": "code",
   "execution_count": null,
   "metadata": {},
   "outputs": [],
   "source": [
    "Certainly! The binary knapsack problem is one of the most famous combinatorial optimization problems. Given a set of items, each with a weight and a value (or cost in this context), the problem is to determine the number of each item to include in a knapsack so that the total weight is less than or equal to a given limit `W` and the total value (or cost) is as large as possible.\n",
    "\n",
    "The mathematical model can be stated as:\n",
    "\n",
    "**Variables:**\n",
    "\\( x_i \\): A binary variable indicating whether item `i` is selected (1 if selected, 0 otherwise).\n",
    "\n",
    "**Objective:**\n",
    "\\[ \\text{max} \\sum_{i=1}^{n} c_i x_i \\]\n",
    "\n",
    "**Constraints:**\n",
    "\\[ \\sum_{i=1}^{n} w_i x_i \\leq W \\]\n",
    "\\[ x_i \\in \\{0,1\\} \\]\n",
    "\n",
    "Now, let's solve it using the Gurobi optimizer:\n",
    "\n",
    "```python\n",
    "from gurobipy import Model, GRB\n",
    "\n",
    "# Sample data for 7 items\n",
    "costs = [10, 20, 30, 40, 50, 60, 70]\n",
    "weights = [5, 10, 15, 20, 25, 30, 35]\n",
    "W = 50  # Maximum weight capacity\n",
    "\n",
    "# Create the model\n",
    "m = Model(\"knapsack\")\n",
    "\n",
    "# Create variables\n",
    "x = m.addVars(len(costs), vtype=GRB.BINARY, name=\"x\")\n",
    "\n",
    "# Set the objective function\n",
    "m.setObjective(sum(costs[i] * x[i] for i in range(len(costs))), GRB.MAXIMIZE)\n",
    "\n",
    "# Add capacity constraint\n",
    "m.addConstr(sum(weights[i] * x[i] for i in range(len(costs))) <= W, \"capacity\")\n",
    "\n",
    "# Solve the problem\n",
    "m.optimize()\n",
    "\n",
    "# Print the solution\n",
    "for i in range(len(costs)):\n",
    "    if x[i].X > 0.5:\n",
    "        print(f\"Item {i+1} is selected with cost {costs[i]} and weight {weights[i]}\")\n",
    "\n",
    "```\n",
    "\n",
    "This script will determine which items to include in the knapsack to maximize the total cost while adhering to the weight constraint. Adjust the sample data as needed for different scenarios."
   ]
  },
  {
   "cell_type": "raw",
   "metadata": {},
   "source": [
    "Please provide some code to make two plots: a histogram of the weights and a a bar plot of the ratio of c_i/w_i."
   ]
  },
  {
   "cell_type": "code",
   "execution_count": null,
   "metadata": {},
   "outputs": [],
   "source": [
    "Certainly! We can use the `matplotlib` library to create these plots. Here's how you can make a histogram of the weights and a bar plot of the ratio \\( \\frac{c_i}{w_i} \\):\n",
    "\n",
    "```python\n",
    "import matplotlib.pyplot as plt\n",
    "\n",
    "# Sample data for 7 items\n",
    "costs = [10, 20, 30, 40, 50, 60, 70]\n",
    "weights = [5, 10, 15, 20, 25, 30, 35]\n",
    "ratios = [c/w for c, w in zip(costs, weights)]\n",
    "\n",
    "# Create a histogram of the weights\n",
    "plt.figure(figsize=(10, 4))\n",
    "plt.subplot(1, 2, 1)\n",
    "plt.hist(weights, bins=7, color='skyblue', edgecolor='black')\n",
    "plt.title('Histogram of Weights')\n",
    "plt.xlabel('Weight')\n",
    "plt.ylabel('Frequency')\n",
    "\n",
    "# Create a bar plot of the ratios c_i/w_i\n",
    "plt.subplot(1, 2, 2)\n",
    "plt.bar(range(1, len(costs)+1), ratios, color='salmon')\n",
    "plt.title('Bar Plot of Cost-to-Weight Ratios')\n",
    "plt.xlabel('Item Number')\n",
    "plt.ylabel('Ratio \\( c_i/w_i \\)')\n",
    "\n",
    "plt.tight_layout()\n",
    "plt.show()\n",
    "```\n",
    "\n",
    "This code will display a histogram of weights on the left side and a bar plot of the cost-to-weight ratios on the right side. Make sure you have `matplotlib` installed (`pip install matplotlib`) before you run the code. Adjust the sample data or visual settings as needed."
   ]
  }
 ],
 "metadata": {
  "kernelspec": {
   "display_name": "Python 3",
   "language": "python",
   "name": "python3"
  },
  "language_info": {
   "codemirror_mode": {
    "name": "ipython",
    "version": 3
   },
   "file_extension": ".py",
   "mimetype": "text/x-python",
   "name": "python",
   "nbconvert_exporter": "python",
   "pygments_lexer": "ipython3",
   "version": "3.7.7"
  }
 },
 "nbformat": 4,
 "nbformat_minor": 4
}
