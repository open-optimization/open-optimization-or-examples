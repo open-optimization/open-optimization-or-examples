{
 "cells": [
  {
   "cell_type": "raw",
   "metadata": {},
   "source": [
    "Please write a python script to solve a binary knapsack problem with costs c_i and weights w_i with capacity W.  Please use gurobipy.  Please provide some initial sample data for the problem using 7 variables."
   ]
  },
  {
   "cell_type": "code",
   "execution_count": null,
   "metadata": {},
   "outputs": [],
   "source": []
  },
  {
   "cell_type": "raw",
   "metadata": {},
   "source": [
    "Please provide some code to make two plots: a histogram of the weights and a a bar plot of the ratio of c_i/w_i."
   ]
  },
  {
   "cell_type": "code",
   "execution_count": null,
   "metadata": {},
   "outputs": [],
   "source": []
  },
  {
   "cell_type": "raw",
   "metadata": {},
   "source": [
    "Please write a model that solves the LP relaxation and compares the solution to the Binary version."
   ]
  },
  {
   "cell_type": "code",
   "execution_count": null,
   "metadata": {},
   "outputs": [],
   "source": []
  },
  {
   "cell_type": "raw",
   "metadata": {},
   "source": [
    "I would like to know how long it takes to solve this problem as the problem grows.  Please setup some code to solve 10 random instances of the binary knapsack problem, time the solver for how long it takes to solve them and take the average.  Please do this for 10, 20, 30, 40, and 50 dimensions and plot the average time to solve.  Let costs and weights vary beween 1 and 10, and let the capacity be half the sum of the weights in each instance."
   ]
  },
  {
   "cell_type": "code",
   "execution_count": null,
   "metadata": {},
   "outputs": [],
   "source": []
  },
  {
   "cell_type": "raw",
   "metadata": {},
   "source": [
    "fantastic.  Let's try this in higher dimensions.  Let's try this for 20 instances of each dimension.  and dimensions 50, 100, 150, 200, and 250."
   ]
  },
  {
   "cell_type": "code",
   "execution_count": null,
   "metadata": {},
   "outputs": [],
   "source": []
  },
  {
   "cell_type": "raw",
   "metadata": {},
   "source": [
    "Let's try one more time in higher dimensions.   Let's try 250, 500, 750, 1000, 1500, and 2500.  Please also provide a polynomial fit to the curve.  Is the growth more linear, quadratic, or like some other function?"
   ]
  },
  {
   "cell_type": "code",
   "execution_count": null,
   "metadata": {},
   "outputs": [],
   "source": []
  }
 ],
 "metadata": {
  "kernelspec": {
   "display_name": "Python 3",
   "language": "python",
   "name": "python3"
  },
  "language_info": {
   "codemirror_mode": {
    "name": "ipython",
    "version": 3
   },
   "file_extension": ".py",
   "mimetype": "text/x-python",
   "name": "python",
   "nbconvert_exporter": "python",
   "pygments_lexer": "ipython3",
   "version": "3.7.7"
  }
 },
 "nbformat": 4,
 "nbformat_minor": 4
}
