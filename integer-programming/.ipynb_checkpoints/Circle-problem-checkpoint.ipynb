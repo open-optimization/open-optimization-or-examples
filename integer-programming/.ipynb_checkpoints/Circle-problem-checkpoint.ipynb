{
 "cells": [
  {
   "cell_type": "code",
   "execution_count": 1,
   "metadata": {},
   "outputs": [
    {
     "name": "stdout",
     "output_type": "stream",
     "text": [
      "Set parameter Username\n",
      "Academic license - for non-commercial use only - expires 2024-09-04\n",
      "Gurobi Optimizer version 10.0.2 build v10.0.2rc0 (mac64[x86])\n",
      "\n",
      "CPU model: Intel(R) Core(TM) i7-9750H CPU @ 2.60GHz\n",
      "Thread count: 6 physical cores, 12 logical processors, using up to 12 threads\n",
      "\n",
      "Optimize a model with 0 rows, 11 columns and 0 nonzeros\n",
      "Model fingerprint: 0xff4261fa\n",
      "Model has 6 quadratic constraints\n",
      "Coefficient statistics:\n",
      "  Matrix range     [0e+00, 0e+00]\n",
      "  QMatrix range    [1e+00, 2e+00]\n",
      "  QLMatrix range   [4e+00, 1e+01]\n",
      "  Objective range  [1e+00, 1e+00]\n",
      "  Bounds range     [1e+00, 4e+01]\n",
      "  RHS range        [0e+00, 0e+00]\n",
      "  QRHS range       [1e+00, 2e+01]\n",
      "Presolve time: 0.01s\n",
      "Presolved: 26 rows, 22 columns, 43 nonzeros\n",
      "Presolved model has 6 second-order cone constraints\n",
      "Ordering time: 0.00s\n",
      "\n",
      "Barrier statistics:\n",
      " AA' NZ     : 8.900e+01\n",
      " Factor NZ  : 1.660e+02\n",
      " Factor Ops : 1.298e+03 (less than 1 second per iteration)\n",
      " Threads    : 1\n",
      "\n",
      "                  Objective                Residual\n",
      "Iter       Primal          Dual         Primal    Dual     Compl     Time\n",
      "   0   6.00000000e+01 -2.37954585e+00  1.97e+01 1.08e-01  3.13e+00     0s\n",
      "   1   1.07075468e+01 -5.86171671e+00  3.85e+00 4.14e-03  5.66e-01     0s\n",
      "   2   3.65068868e+00 -5.08516680e-01  2.21e+00 1.68e-06  1.35e-01     0s\n",
      "   3   2.64269491e+00  1.53309557e+00  1.51e+00 7.41e-08  7.68e-02     0s\n",
      "   4   2.53177106e+00  2.60380059e+00  1.05e+00 2.89e-08  4.11e-02     0s\n",
      "   5   2.74414055e+00  3.12385019e+00  6.86e-01 8.50e-09  2.58e-02     0s\n",
      "   6   3.00220539e+00  3.37564711e+00  4.40e-01 2.08e-09  1.86e-02     0s\n",
      "   7   4.09121004e+00  3.65279289e+00  1.01e-01 1.69e-09  1.88e-02     0s\n",
      "   8   4.12067357e+00  3.95070369e+00  6.00e-02 3.16e-10  9.90e-03     0s\n",
      "   9   4.16677889e+00  4.20678188e+00  3.85e-02 4.53e-11  3.88e-03     0s\n",
      "  10   4.27520598e+00  4.28713936e+00  1.32e-02 1.61e-11  1.66e-03     0s\n",
      "  11   4.34049859e+00  4.33849433e+00  1.96e-03 4.19e-12  4.13e-04     0s\n",
      "  12   4.34685014e+00  4.34648988e+00  1.50e-04 4.21e-13  3.92e-05     0s\n",
      "  13   4.34696751e+00  4.34680181e+00  7.99e-05 3.06e-12  2.03e-05     0s\n",
      "  14   4.34705261e+00  4.34696805e+00  3.76e-05 6.96e-12  9.81e-06     0s\n",
      "  15   4.34713294e+00  4.34706656e+00  5.27e-06 1.32e-11  2.79e-06     0s\n",
      "  16   4.34715884e+00  4.34715450e+00  2.64e-07 5.83e-11  1.88e-07     0s\n",
      "\n",
      "Barrier solved model in 16 iterations and 0.04 seconds (0.00 work units)\n",
      "Optimal objective 4.34715884e+00\n",
      "\n",
      "x[0]: 0.558434226764648\n",
      "x[1]: 2.0023295660003684\n",
      "x[2]: 0.4400224255765713\n",
      "y[0]: 0.8295487365357794\n",
      "y[1]: 2.0682288760986123\n",
      "y[2]: 4.102011495983815\n",
      "w[0]: 1.5400574568859224\n",
      "w[1]: 0.5861409575172976\n",
      "w[2]: 2.2209604227259923\n",
      "c_x: 1.4175214711970239\n",
      "c_y: 2.1077295938385774\n",
      "Objective Value: 4.3471588371292125\n"
     ]
    }
   ],
   "source": [
    "import gurobipy as gp\n",
    "from gurobipy import GRB\n",
    "\n",
    "# Create a new model\n",
    "m = gp.Model()\n",
    "\n",
    "# Add variables\n",
    "x = m.addVars(3, lb=-1, ub=10, name=\"x\")\n",
    "y = m.addVars(3, lb=-1, ub=10, name=\"y\")\n",
    "w = m.addVars(3, lb=0, ub=40, name=\"w\")\n",
    "c_x = m.addVar(lb=-1, ub=10, name=\"c_x\")\n",
    "c_y = m.addVar(lb=-1, ub=10, name=\"c_y\")\n",
    "\n",
    "# Set objective\n",
    "m.setObjective(w[0] + w[1] + w[2], GRB.MINIMIZE)\n",
    "\n",
    "# Add circle constraints\n",
    "m.addConstr(x[0]*x[0] + y[0]*y[0] <= 1, \"circle_1\")\n",
    "m.addConstr((x[1] - 3)*(x[1] - 3) + (y[1] - 2)*(y[1] - 2) <= 1, \"circle_2\")\n",
    "m.addConstr((x[2])*(x[2]) + (y[2] - 5)*(y[2] - 5) <= 1, \"circle_3\")\n",
    "\n",
    "# Add distance constraints\n",
    "for i in range(3):\n",
    "    m.addConstr((x[i] - c_x)*(x[i] - c_x) + (y[i] - c_y)*(y[i] - c_y) <= w[i]*w[i], f\"distance_{i}\")\n",
    "\n",
    "# Optimize model\n",
    "m.optimize()\n",
    "\n",
    "# Print the optimal solutions\n",
    "if m.status == GRB.OPTIMAL:\n",
    "    for v in m.getVars():\n",
    "        print(f\"{v.varName}: {v.x}\")\n",
    "    print(f\"Objective Value: {m.objVal}\")\n",
    "else:\n",
    "    print(\"No solution found\")\n"
   ]
  },
  {
   "cell_type": "code",
   "execution_count": 3,
   "metadata": {},
   "outputs": [
    {
     "data": {
      "image/png": "[encoded data removed]",
      "text/plain": [
       "<Figure size 432x288 with 1 Axes>"
      ]
     },
     "metadata": {
      "needs_background": "light"
     },
     "output_type": "display_data"
    }
   ],
   "source": [
    "import matplotlib.pyplot as plt\n",
    "import numpy as np\n",
    "\n",
    "# Extracting optimal solution values\n",
    "c_x_val, c_y_val = c_x.x, c_y.x\n",
    "x_vals = [x[i].x for i in range(3)]\n",
    "y_vals = [y[i].x for i in range(3)]\n",
    "\n",
    "# Plotting the circles\n",
    "fig, ax = plt.subplots()\n",
    "circles_centers = [(0,0), (3,2), (0,5)]\n",
    "for i, center in enumerate(circles_centers):\n",
    "    circle = plt.Circle(center, 1, color='blue', fill=False)\n",
    "    ax.add_artist(circle)\n",
    "    ax.plot(x_vals[i], y_vals[i], 'ro')  # plotting the points on the circle boundary\n",
    "\n",
    "# Plotting the distances\n",
    "for i in range(3):\n",
    "    ax.plot([x_vals[i], c_x_val], [y_vals[i], c_y_val], 'g--')\n",
    "\n",
    "# Adjusting the plot\n",
    "ax.set_xlim(-2, 5)\n",
    "ax.set_ylim(-2, 7)\n",
    "ax.set_aspect('equal', 'box')\n",
    "ax.set_title(\"Minimizing distance of points on three circles\")\n",
    "plt.show()\n"
   ]
  },
  {
   "cell_type": "code",
   "execution_count": null,
   "metadata": {},
   "outputs": [],
   "source": []
  }
 ],
 "metadata": {
  "kernelspec": {
   "display_name": "Python 3",
   "language": "python",
   "name": "python3"
  },
  "language_info": {
   "codemirror_mode": {
    "name": "ipython",
    "version": 3
   },
   "file_extension": ".py",
   "mimetype": "text/x-python",
   "name": "python",
   "nbconvert_exporter": "python",
   "pygments_lexer": "ipython3",
   "version": "3.7.7"
  }
 },
 "nbformat": 4,
 "nbformat_minor": 4
}
