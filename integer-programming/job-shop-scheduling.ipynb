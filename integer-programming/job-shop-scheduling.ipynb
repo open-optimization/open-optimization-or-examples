{
 "cells": [
  {
   "cell_type": "markdown",
   "metadata": {},
   "source": [
    "# Job Shop Scheduling Problem\n",
    "\n",
    "The job shop scheduling problem is a fundamental problem in planning.\n",
    "\n",
    "We assume we have a set of machines and a set of jobs.  Each job must be processesed on each of the machines for a given processing time, but each machine can only process one job at a time.\n",
    "\n",
    "Each job has an ordering of the machines on which it needs to be processed.  \n",
    "\n",
    "The goal is to minimize the time it takes to complete all of the jobs.  \n",
    "\n",
    "This is called Makespan Minimization.\n"
   ]
  },
  {
   "cell_type": "code",
   "execution_count": 44,
   "metadata": {},
   "outputs": [],
   "source": [
    "from gurobipy import Model, GRB\n",
    "import matplotlib.pyplot as plt\n",
    "\n",
    "\n",
    "# Input data\n",
    "n = 4 # number of jobs\n",
    "m = 3 # number of machines\n",
    "times = [[4,2,1], [3,1,2], [2,4,2],[2,3,2]] # processing times of jobs on machines\n",
    "\n",
    "# Calculate a large constant 'M' that will be used in the model. This is the summation of all processing times.\n",
    "M = sum(times[i][j] for i in range(n) for j in range(m))\n",
    "machines = [[0, 1, 2], [2, 1, 0], [0, 2, 1],[1,0,2]] # ordering of jobs on machines\n",
    "\n",
    "# # Input data\n",
    "# n = 1 # number of jobs\n",
    "# m = 3 # number of machines\n",
    "# times = [[2,4,2]] # processing times of jobs on machines\n",
    "\n",
    "# # Calculate a large constant 'M' that will be used in the model. This is the summation of all processing times.\n",
    "# M = sum(times[i][j] for i in range(n) for j in range(m))\n",
    "# machines = [ [0, 2, 1]] # ordering of jobs on machines"
   ]
  },
  {
   "cell_type": "code",
   "execution_count": 48,
   "metadata": {},
   "outputs": [
    {
     "name": "stdout",
     "output_type": "stream",
     "text": [
      "Gurobi Optimizer version 10.0.2 build v10.0.2rc0 (mac64[x86])\n",
      "\n",
      "CPU model: Intel(R) Core(TM) i7-9750H CPU @ 2.60GHz\n",
      "Thread count: 6 physical cores, 12 logical processors, using up to 12 threads\n",
      "\n",
      "Optimize a model with 84 rows, 49 columns and 240 nonzeros\n",
      "Model fingerprint: 0x63d89c04\n",
      "Variable types: 13 continuous, 36 integer (36 binary)\n",
      "Coefficient statistics:\n",
      "  Matrix range     [1e+00, 3e+01]\n",
      "  Objective range  [1e-04, 1e+00]\n",
      "  Bounds range     [1e+00, 1e+00]\n",
      "  RHS range        [1e+00, 3e+01]\n",
      "Found heuristic solution: objective 12.0053000\n",
      "Presolve removed 16 rows and 16 columns\n",
      "Presolve time: 0.00s\n",
      "Presolved: 68 rows, 33 columns, 176 nonzeros\n",
      "Variable types: 13 continuous, 20 integer (20 binary)\n",
      "\n",
      "Root relaxation: objective 8.003000e+00, 15 iterations, 0.00 seconds (0.00 work units)\n",
      "\n",
      "    Nodes    |    Current Node    |     Objective Bounds      |     Work\n",
      " Expl Unexpl |  Obj  Depth IntInf | Incumbent    BestBd   Gap | It/Node Time\n",
      "\n",
      "     0     0    8.00300    0   12   12.00530    8.00300  33.3%     -    0s\n",
      "     0     0   11.00410    0    4   12.00530   11.00410  8.34%     -    0s\n",
      "H    0     0                      12.0051000   11.00410  8.34%     -    0s\n",
      "H    0     0                      11.0051000   11.00410  0.01%     -    0s\n",
      "     0     0   11.00410    0    4   11.00510   11.00410  0.01%     -    0s\n",
      "\n",
      "Explored 1 nodes (20 simplex iterations) in 0.02 seconds (0.00 work units)\n",
      "Thread count was 12 (of 12 available processors)\n",
      "\n",
      "Solution count 3: 11.0051 12.0051 12.0053 \n",
      "\n",
      "Optimal solution found (tolerance 1.00e-04)\n",
      "Best objective 1.100510000000e+01, best bound 1.100510000000e+01, gap 0.0000%\n"
     ]
    }
   ],
   "source": [
    "# Initialize the optimization model\n",
    "model = Model(\"jssp\")\n",
    "\n",
    "# Create variables\n",
    "x = {}  # Starting times for jobs on machines\n",
    "y = {}  # Binary variables to help model non-overlapping constraints\n",
    "\n",
    "# Define decision variables\n",
    "for i in range(m):\n",
    "    for j in range(n):\n",
    "        # Continuous variable representing the starting time of job 'j' on machine 'i'\n",
    "        x[i, j] = model.addVar(vtype=GRB.CONTINUOUS, name=f\"x_{i}_{j}\")\n",
    "        \n",
    "        for k in range(n):\n",
    "            if j != k:\n",
    "                # Binary variable that is 1 if job 'j' precedes job 'k' on machine 'i', and 0 otherwise\n",
    "                y[i, j, k] = model.addVar(vtype=GRB.BINARY, name=f\"y_{i}_{j}_{k}\")\n",
    "\n",
    "# Variable representing the makespan (maximum completion time across all jobs)\n",
    "C = model.addVar(vtype=GRB.CONTINUOUS, name=\"C\")\n",
    "\n",
    "# Objective function: Minimize the makespan (adapted to also start jobs as soon as possible)\n",
    "model.setObjective(C + 0.0001*sum(x[i, j] for i in range(m) for j in range(n)), GRB.MINIMIZE)\n",
    "\n",
    "#model.addConstr(x[2,2]==2)\n",
    "# Add constraints\n",
    "for j in range(n):\n",
    "    for r in range(1, m):\n",
    "        # Precedence constraints: Ensure that a job on a machine only starts after \n",
    "        # the processing of the previous machine is concluded\n",
    "        model.addConstr(x[machines[j][r], j] >= x[machines[j][r-1], j] + times[j][machines[j][r-1]])\n",
    "\n",
    "        \n",
    "# for j in range(n):\n",
    "#     for r in range(m):    \n",
    "#         # Ensure the makespan (C) is at least the completion time of every job\n",
    "#         model.addConstr(C >= x[r, j] + times[j][r])\n",
    "\n",
    "        \n",
    "for j in range(n):\n",
    "    #for r in range(m):    \n",
    "        # Ensure the makespan (C) is at least the completion time of every job\n",
    "    machine = machines[j][m-1]\n",
    "    model.addConstr(C >= x[machine, j] + times[j][machine])\n",
    "        \n",
    "for i in range(m):\n",
    "    for j in range(n):\n",
    "        for k in range(n):\n",
    "            if j != k:\n",
    "                # Disjunctive constraints: Ensure that two jobs do not overlap on the same machine.\n",
    "                # These constraints use the big 'M' methodology in combination with binary variables.\n",
    "                model.addConstr(x[i, j] >= x[i, k] + times[k][i] - M * (1 - y[i, j, k]))\n",
    "                model.addConstr(x[i, k] >= x[i, j] + times[j][i] - M * y[i, j, k])\n",
    "\n",
    "# Optimize the model to find the optimal solution\n",
    "model.optimize()"
   ]
  },
  {
   "cell_type": "code",
   "execution_count": 49,
   "metadata": {},
   "outputs": [
    {
     "name": "stdout",
     "output_type": "stream",
     "text": [
      "\n",
      "Solution:\n",
      "\n",
      "Machine 0:\n",
      "  Job 2 from time 0 to 2\n",
      "  Job 0 from time 1 to 5\n",
      "  Job 3 from time 5 to 7\n",
      "  Job 1 from time 7 to 10\n",
      "\n",
      "Machine 1:\n",
      "  Job 3 from time 0 to 3\n",
      "  Job 1 from time 2 to 3\n",
      "  Job 2 from time 4 to 8\n",
      "  Job 0 from time 7 to 9\n",
      "\n",
      "Machine 2:\n",
      "  Job 1 from time 0 to 2\n",
      "  Job 2 from time 2 to 4\n",
      "  Job 3 from time 7 to 9\n",
      "  Job 0 from time 9 to 10\n",
      "\n"
     ]
    }
   ],
   "source": [
    "# Print Solution\n",
    "print(\"\\nSolution:\\n\")\n",
    "for i in range(m):\n",
    "    # Sort jobs for each machine based on start times\n",
    "    scheduled_jobs = sorted([(int(x[i, j].X), j) for j in range(n)])\n",
    "    \n",
    "    print(f\"Machine {i}:\")\n",
    "    for start_time, job in scheduled_jobs:\n",
    "        print(f\"  Job {job} from time {start_time} to {start_time + times[job][i]}\")\n",
    "    print()"
   ]
  },
  {
   "cell_type": "markdown",
   "metadata": {},
   "source": [
    "# Gantt Chart\n",
    "Although the data above is useful, it is convenient to display the solution in a Gantt chart."
   ]
  },
  {
   "cell_type": "code",
   "execution_count": 50,
   "metadata": {},
   "outputs": [
    {
     "data": {
      "image/png": "[encoded data removed]",
      "text/plain": [
       "<Figure size 720x432 with 1 Axes>"
      ]
     },
     "metadata": {
      "needs_background": "light"
     },
     "output_type": "display_data"
    }
   ],
   "source": [
    "# Check if the optimization was successful\n",
    "if model.Status == GRB.OPTIMAL:\n",
    "    # Visualize the optimal schedule using a Gantt chart\n",
    "    if n <= 4:\n",
    "        job_colors = ['red','yellow','green', 'blue']\n",
    "    else:\n",
    "        import matplotlib.cm as cm\n",
    "        job_colors = [cm.viridis(i/n) for i in range(n)]\n",
    "    fig, ax = plt.subplots(1, 1, figsize=(10, 6))\n",
    "    \n",
    "    ax.set_xlim(-1,C.x+1)\n",
    "    for j in range(n):\n",
    "        for r in range(m):\n",
    "            machine = r\n",
    "            # Plot each job's duration on its respective machine\n",
    "            ax.broken_barh([(model.getVarByName(f\"x_{machine}_{j}\").x, times[j][r])], (machine - 0.4, 0.8), color=job_colors[j], label=f\"Job {j}\")\n",
    "\n",
    "    ax.set_yticks(list(range(m)))\n",
    "    ax.set_yticklabels([f\"Machine {i}\" for i in range(m)])\n",
    "    ax.set_xlabel(\"Time\")\n",
    "    ax.set_title(\"Gantt Chart of JSSP Solution\")\n",
    "    \n",
    "    # Add a vertical line at max time\n",
    "    ax.axvline(x=C.x, color='black', linestyle='--', label='C_max')\n",
    "    \n",
    "    # Add a legend to the chart for clarity\n",
    "    handles = [plt.Rectangle((0,0),1,1, color=job_colors[j]) for j in range(n)]\n",
    "    \n",
    "    ax.legend(handles, [f\"Job {j}\" for j in range(n)], loc=\"upper left\", bbox_to_anchor=(1, 1))\n",
    "    \n",
    "\n",
    "\n",
    "    plt.tight_layout()\n",
    "    plt.show()\n",
    "else:\n",
    "    print(\"No optimal solution found!\")\n"
   ]
  },
  {
   "cell_type": "code",
   "execution_count": null,
   "metadata": {},
   "outputs": [],
   "source": []
  }
 ],
 "metadata": {
  "kernelspec": {
   "display_name": "Python 3",
   "language": "python",
   "name": "python3"
  },
  "language_info": {
   "codemirror_mode": {
    "name": "ipython",
    "version": 3
   },
   "file_extension": ".py",
   "mimetype": "text/x-python",
   "name": "python",
   "nbconvert_exporter": "python",
   "pygments_lexer": "ipython3",
   "version": "3.7.7"
  }
 },
 "nbformat": 4,
 "nbformat_minor": 4
}
