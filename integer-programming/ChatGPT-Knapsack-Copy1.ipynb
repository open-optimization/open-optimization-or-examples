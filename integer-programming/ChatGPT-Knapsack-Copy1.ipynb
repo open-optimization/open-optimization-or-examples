{
 "cells": [
  {
   "cell_type": "raw",
   "metadata": {},
   "source": [
    "Please write a python script to solve a binary knapsack problem with costs c_i and weights w_i with capacity W.  Please use gurobipy.  Please provide some initial sample data for the problem using 7 variables."
   ]
  },
  {
   "cell_type": "code",
   "execution_count": 3,
   "metadata": {},
   "outputs": [
    {
     "name": "stdout",
     "output_type": "stream",
     "text": [
      "Gurobi Optimizer version 9.5.2 build v9.5.2rc0 (mac64[x86])\n",
      "Thread count: 6 physical cores, 12 logical processors, using up to 12 threads\n",
      "Optimize a model with 1 rows, 7 columns and 7 nonzeros\n",
      "Model fingerprint: 0x2d831b00\n",
      "Variable types: 0 continuous, 7 integer (7 binary)\n",
      "Coefficient statistics:\n",
      "  Matrix range     [1e+00, 1e+01]\n",
      "  Objective range  [1e+01, 7e+01]\n",
      "  Bounds range     [1e+00, 1e+00]\n",
      "  RHS range        [2e+01, 2e+01]\n",
      "Found heuristic solution: objective 190.0000000\n",
      "Presolve removed 1 rows and 7 columns\n",
      "Presolve time: 0.00s\n",
      "Presolve: All rows and columns removed\n",
      "\n",
      "Explored 0 nodes (0 simplex iterations) in 0.01 seconds (0.00 work units)\n",
      "Thread count was 1 (of 12 available processors)\n",
      "\n",
      "Solution count 2: 210 190 \n",
      "\n",
      "Optimal solution found (tolerance 1.00e-04)\n",
      "Best objective 2.100000000000e+02, best bound 2.100000000000e+02, gap 0.0000%\n",
      "Optimal solution found!\n",
      "Item 2: Cost = 30, Weight = 1\n",
      "Item 4: Cost = 50, Weight = 9\n",
      "Item 5: Cost = 60, Weight = 3\n",
      "Item 6: Cost = 70, Weight = 1\n",
      "Total Cost: 210.0\n"
     ]
    }
   ],
   "source": [
    "from gurobipy import Model, GRB\n",
    "\n",
    "# Sample data\n",
    "costs = [10, 20, 30, 40, 50, 60, 70]    # c_i\n",
    "weights = [4, 6, 1, 11, 9, 3, 1]        # w_i\n",
    "W = 15                                # capacity of knapsack\n",
    "\n",
    "# Create a new model\n",
    "m = Model(\"binary_knapsack\")\n",
    "\n",
    "# Add variables\n",
    "x = m.addVars(len(costs), vtype=GRB.BINARY, name=\"x\")\n",
    "\n",
    "# Set the objective to maximize cost\n",
    "m.setObjective(sum(costs[i]*x[i] for i in range(len(costs))), GRB.MAXIMIZE)\n",
    "\n",
    "# Add weight constraint\n",
    "m.addConstr(sum(weights[i]*x[i] for i in range(len(costs))) <= W, \"weight_limit\")\n",
    "\n",
    "# Optimize model\n",
    "m.optimize()\n",
    "\n",
    "# Output solution\n",
    "if m.status == GRB.Status.OPTIMAL:\n",
    "    print(\"Optimal solution found!\")\n",
    "    for i in range(len(costs)):\n",
    "        if x[i].X > 0.5:\n",
    "            print(f\"Item {i}: Cost = {costs[i]}, Weight = {weights[i]}\")\n",
    "    print(f\"Total Cost: {m.objVal}\")\n",
    "else:\n",
    "    print(\"No solution found.\")\n"
   ]
  },
  {
   "cell_type": "raw",
   "metadata": {},
   "source": [
    "Please provide some code to make two plots: a histogram of the weights and a a bar plot of the ratio of c_i/w_i."
   ]
  },
  {
   "cell_type": "code",
   "execution_count": 4,
   "metadata": {},
   "outputs": [
    {
     "data": {
      "image/png": "[encoded data removed]",
      "text/plain": [
       "<Figure size 720x288 with 2 Axes>"
      ]
     },
     "metadata": {
      "needs_background": "light"
     },
     "output_type": "display_data"
    }
   ],
   "source": [
    "import matplotlib.pyplot as plt\n",
    "\n",
    "# Sample data\n",
    "costs = [10, 20, 30, 40, 50, 60, 70]    # c_i\n",
    "weights = [4, 6, 1, 11, 9, 3, 1]        # w_i\n",
    "\n",
    "# Calculate ratios\n",
    "ratios = [c/w for c, w in zip(costs, weights)]\n",
    "\n",
    "# Plot histogram for weights\n",
    "plt.figure(figsize=(10, 4))\n",
    "plt.subplot(1, 2, 1)\n",
    "plt.hist(weights, bins=7, color='blue', edgecolor='black', alpha=0.7)\n",
    "plt.xlabel(\"Weight\")\n",
    "plt.ylabel(\"Frequency\")\n",
    "plt.title(\"Histogram of Weights\")\n",
    "\n",
    "# Plot bar plot for c_i/w_i ratios\n",
    "plt.subplot(1, 2, 2)\n",
    "plt.bar(range(len(ratios)), ratios, color='green', edgecolor='black', alpha=0.7)\n",
    "plt.xlabel(\"Item Index\")\n",
    "plt.ylabel(\"c_i/w_i\")\n",
    "plt.title(\"Bar Plot of c_i/w_i Ratios\")\n",
    "\n",
    "# Display the plots\n",
    "plt.tight_layout()\n",
    "plt.show()\n"
   ]
  },
  {
   "cell_type": "raw",
   "metadata": {},
   "source": [
    "Please write a model that solves the LP relaxation and compares the solution to the Binary version."
   ]
  },
  {
   "cell_type": "code",
   "execution_count": null,
   "metadata": {},
   "outputs": [],
   "source": []
  },
  {
   "cell_type": "raw",
   "metadata": {},
   "source": [
    "I would like to know how long it takes to solve this problem as the problem grows.  Please setup some code to solve 10 random instances of the binary knapsack problem, time the solver for how long it takes to solve them and take the average.  Please do this for 10, 20, 30, 40, and 50 dimensions and plot the average time to solve.  Let costs and weights vary beween 1 and 10, and let the capacity be half the sum of the weights in each instance."
   ]
  },
  {
   "cell_type": "code",
   "execution_count": null,
   "metadata": {},
   "outputs": [],
   "source": []
  },
  {
   "cell_type": "raw",
   "metadata": {},
   "source": [
    "fantastic.  Let's try this in higher dimensions.  Let's try this for 20 instances of each dimension.  and dimensions 50, 100, 150, 200, and 250."
   ]
  },
  {
   "cell_type": "code",
   "execution_count": null,
   "metadata": {},
   "outputs": [],
   "source": []
  },
  {
   "cell_type": "raw",
   "metadata": {},
   "source": [
    "Let's try one more time in higher dimensions.   Let's try 250, 500, 750, 1000, 1500, and 2500.  Please also provide a polynomial fit to the curve.  Is the growth more linear, quadratic, or like some other function?"
   ]
  },
  {
   "cell_type": "code",
   "execution_count": null,
   "metadata": {},
   "outputs": [],
   "source": []
  }
 ],
 "metadata": {
  "kernelspec": {
   "display_name": "Python 3",
   "language": "python",
   "name": "python3"
  },
  "language_info": {
   "codemirror_mode": {
    "name": "ipython",
    "version": 3
   },
   "file_extension": ".py",
   "mimetype": "text/x-python",
   "name": "python",
   "nbconvert_exporter": "python",
   "pygments_lexer": "ipython3",
   "version": "3.7.7"
  }
 },
 "nbformat": 4,
 "nbformat_minor": 4
}
