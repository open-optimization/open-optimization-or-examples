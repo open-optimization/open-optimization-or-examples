{
 "cells": [
  {
   "cell_type": "markdown",
   "metadata": {
    "button": false,
    "deletable": true,
    "new_sheet": false,
    "run_control": {
     "read_only": false
    }
   },
   "source": [
    "\n",
    "\n",
    "**Example: Minimizing Coins**\n",
    "\n",
    "Given pennies, nickels, dimes, and quarters, determine the minimum number of coins needed to make up a sum of 83 cents.\n",
    "\n",
    "**Variables:**\n",
    "\n",
    "- **p**: Number of pennies used\n",
    "- **n**: Number of nickels used\n",
    "- **d**: Number of dimes used\n",
    "- **q**: Number of quarters used\n",
    "\n",
    "**Model:**\n",
    "\n",
    "- **Objective**: Minimize p + n + d + q (i.e., the total number of coins used)\n",
    "  \n",
    "- **Constraints**:\n",
    "  - The equation for the total sum: p + 5n + 10d + 25q = 83 (should sum to 83 cents)\n",
    "  - Each of p, n, d, and q should be a non-negative integer\n",
    "\n"
   ]
  },
  {
   "cell_type": "markdown",
   "metadata": {
    "button": false,
    "deletable": true,
    "new_sheet": false,
    "run_control": {
     "read_only": false
    }
   },
   "source": [
    "## Code"
   ]
  },
  {
   "cell_type": "code",
   "execution_count": 1,
   "metadata": {
    "button": false,
    "collapsed": false,
    "deletable": true,
    "jupyter": {
     "outputs_hidden": false
    },
    "new_sheet": false,
    "run_control": {
     "read_only": false
    }
   },
   "outputs": [
    {
     "name": "stdout",
     "output_type": "stream",
     "text": [
      "Set parameter Username\n",
      "\n",
      "--------------------------------------------\n",
      "Warning: your license will expire in 8 days\n",
      "--------------------------------------------\n",
      "\n",
      "Academic license - for non-commercial use only - expires 2023-08-26\n",
      "Gurobi Optimizer version 9.5.2 build v9.5.2rc0 (mac64[x86])\n",
      "Thread count: 6 physical cores, 12 logical processors, using up to 12 threads\n",
      "Optimize a model with 1 rows, 4 columns and 4 nonzeros\n",
      "Model fingerprint: 0x5bb4a4db\n",
      "Variable types: 0 continuous, 4 integer (0 binary)\n",
      "Coefficient statistics:\n",
      "  Matrix range     [1e+00, 2e+01]\n",
      "  Objective range  [1e+00, 1e+00]\n",
      "  Bounds range     [0e+00, 0e+00]\n",
      "  RHS range        [8e+01, 8e+01]\n",
      "Presolve removed 1 rows and 4 columns\n",
      "Presolve time: 0.00s\n",
      "Presolve: All rows and columns removed\n",
      "\n",
      "Explored 0 nodes (0 simplex iterations) in 0.01 seconds (0.00 work units)\n",
      "Thread count was 1 (of 12 available processors)\n",
      "\n",
      "Solution count 1: 7 \n",
      "\n",
      "Optimal solution found (tolerance 1.00e-04)\n",
      "Best objective 7.000000000000e+00, best bound 7.000000000000e+00, gap 0.0000%\n",
      "Number of pennies: 3\n",
      "Number of nickels: 1\n",
      "Number of dimes: 0\n",
      "Number of quarters: 3\n"
     ]
    }
   ],
   "source": [
    "from gurobipy import Model, GRB\n",
    "\n",
    "# Create a new model\n",
    "m = Model(\"min_coins\")\n",
    "\n",
    "# Add variables\n",
    "p = m.addVar(vtype=GRB.INTEGER, name=\"p\")  # pennies\n",
    "n = m.addVar(vtype=GRB.INTEGER, name=\"n\")  # nickels\n",
    "d = m.addVar(vtype=GRB.INTEGER, name=\"d\")  # dimes\n",
    "q = m.addVar(vtype=GRB.INTEGER, name=\"q\")  # quarters\n",
    "\n",
    "# Set the objective\n",
    "m.setObjective(p + n + d + q, GRB.MINIMIZE)\n",
    "\n",
    "# Add constraints\n",
    "m.addConstr(p + 5 * n + 10 * d + 25 * q == 83, \"sum_to_83_cents\")\n",
    "\n",
    "# Ensure variables are non-negative integers\n",
    "# By default, gurobipy assumes all variables to be non-negative, so we don't have to specify this\n",
    "\n",
    "# Optimize the model\n",
    "m.optimize()\n",
    "\n",
    "# Display the solution\n",
    "if m.status == GRB.OPTIMAL:\n",
    "    print(f\"Number of pennies: {int(p.x)}\")\n",
    "    print(f\"Number of nickels: {int(n.x)}\")\n",
    "    print(f\"Number of dimes: {int(d.x)}\")\n",
    "    print(f\"Number of quarters: {int(q.x)}\")\n",
    "else:\n",
    "    print(\"No solution found!\")\n"
   ]
  }
 ],
 "metadata": {
  "kernelspec": {
   "display_name": "Python 3",
   "language": "python",
   "name": "python3"
  },
  "language_info": {
   "codemirror_mode": {
    "name": "ipython",
    "version": 3
   },
   "file_extension": ".py",
   "mimetype": "text/x-python",
   "name": "python",
   "nbconvert_exporter": "python",
   "pygments_lexer": "ipython3",
   "version": "3.7.7"
  }
 },
 "nbformat": 4,
 "nbformat_minor": 4
}
