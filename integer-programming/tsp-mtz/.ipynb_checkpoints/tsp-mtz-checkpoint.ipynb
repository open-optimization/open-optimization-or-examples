{
 "cells": [
  {
   "cell_type": "code",
   "execution_count": 1,
   "metadata": {},
   "outputs": [],
   "source": [
    "# Import everything needed\n",
    "import numpy as np\n",
    "import matplotlib.pyplot as plt\n",
    "from gurobipy import *\n",
    "import time\n",
    "\n",
    "def plot_locations_and_edges(Edges):\n",
    "    for (i,j) in Edges:\n",
    "        plt.plot([location[i,0], location[j,0]], [location[i,1], location[j,1]], color = \"blue\", linestyle = \"dashed\", linewidth= 0.5)\n",
    "    x,y = np.transpose(location);\n",
    "\n",
    "    plt.scatter(x,y, color = \"red\");\n",
    "    plt.xlabel(\"x-coordinate\")\n",
    "    plt.ylabel(\"y-coordinate\")\n",
    "    plt.title(\"Matchings of Rival Teams\")\n",
    "    plt.show()"
   ]
  },
  {
   "cell_type": "code",
   "execution_count": 2,
   "metadata": {},
   "outputs": [],
   "source": [
    "# Load Instance\n",
    "\n",
    "#instance = \"sp11\"\n",
    "instance = \"uscap\"\n",
    "#instance = \"sgb128\"\n",
    "\n",
    "# Load Names\n",
    "f=open(\"data/\" + instance + \"_name.txt\", \"r\")\n",
    "names = f.readlines()\n",
    "names = [name.rstrip(\"\\n\") for name in names]\n",
    "\n",
    "#Load Locations\n",
    "location = np.loadtxt(\"data/\" + instance + \"_xy.txt\")\n",
    "\n",
    "#Load Distances\n",
    "distance = np.loadtxt(\"data/\" + instance + \"_dist.txt\")\n",
    "\n",
    "n = len(names)"
   ]
  },
  {
   "cell_type": "code",
   "execution_count": 3,
   "metadata": {},
   "outputs": [
    {
     "name": "stdout",
     "output_type": "stream",
     "text": [
      "Academic license - for non-commercial use only\n",
      "Optimize a model with 101 rows, 2500 columns and 5050 nonzeros\n",
      "Variable types: 0 continuous, 2500 integer (2500 binary)\n",
      "Coefficient statistics:\n",
      "  Matrix range     [1e+00, 1e+00]\n",
      "  Objective range  [2e+01, 3e+03]\n",
      "  Bounds range     [1e+00, 1e+00]\n",
      "  RHS range        [1e+00, 5e+01]\n",
      "Found heuristic solution: objective 34312.032690\n",
      "Presolve removed 101 rows and 2500 columns\n",
      "Presolve time: 0.00s\n",
      "Presolve: All rows and columns removed\n",
      "\n",
      "Explored 0 nodes (0 simplex iterations) in 0.01 seconds\n",
      "Thread count was 1 (of 8 available processors)\n",
      "\n",
      "Solution count 2: 4830.95 34312 \n",
      "\n",
      "Optimal solution found (tolerance 1.00e-04)\n",
      "Best objective 4.830954822698e+03, best bound 4.830954822698e+03, gap 0.0000%\n",
      "Time to run code:  0.11873299999999998\n"
     ]
    },
    {
     "data": {
      "image/png": "[encoded data removed]",
      "text/plain": [
       "<Figure size 432x288 with 1 Axes>"
      ]
     },
     "metadata": {
      "needs_background": "light"
     },
     "output_type": "display_data"
    }
   ],
   "source": [
    "################\n",
    "# Start the timer\n",
    "start = time.clock()\n",
    "################\n",
    "\n",
    "### Input your model here\n",
    "\n",
    "# Create a new model\n",
    "m = Model(\"NFL-Rivals Model\")\n",
    "\n",
    "# Create set\n",
    "I = range(n)\n",
    "\n",
    "# Create variables\n",
    "x = m.addVars(I,I, vtype=GRB.BINARY, name=\"x\")\n",
    "\n",
    "# Set objective\n",
    "m.setObjective(0.5*sum(distance[i,j]*x[i,j] for i in I for j in I), GRB.MINIMIZE)\n",
    "\n",
    "# Add constraint: \n",
    "m.addConstr(sum(x[i,j] for i in I for j in I) >= n-1, \"at least (n-1)/2 pairs\")\n",
    "\n",
    "#Add constraint: no city connected to itself\n",
    "m.addConstrs((x[i,i]==0 for i in I), \"No city connected to itself\")\n",
    "\n",
    "#Add constraint: At most 1 rival for each city\n",
    "m.addConstrs((sum(x[i,j] for j in I) <=1 for i in I), \"Rivals\")\n",
    "\n",
    "# Optimize model\n",
    "m.optimize()\n",
    "\n",
    "#End the timer\n",
    "end = time.clock()\n",
    "print(\"Time to run code: \", end - start)\n",
    "################\n",
    "\n",
    "#Extract the solution and plot it\n",
    "x_sol = [ [ x[(i,j)].x for i in I] for j in I]\n",
    "edges = [(i,j) for i in I for j in I if x_sol[i][j] ==1]\n",
    "plot_locations_and_edges(edges)"
   ]
  },
  {
   "cell_type": "markdown",
   "metadata": {},
   "source": [
    "# Random Instances"
   ]
  },
  {
   "cell_type": "code",
   "execution_count": 4,
   "metadata": {},
   "outputs": [
    {
     "ename": "KeyboardInterrupt",
     "evalue": "",
     "output_type": "error",
     "traceback": [
      "\u001b[0;31m---------------------------------------------------------------------------\u001b[0m",
      "\u001b[0;31mKeyboardInterrupt\u001b[0m                         Traceback (most recent call last)",
      "\u001b[0;32m<ipython-input-4-9940e37e81e9>\u001b[0m in \u001b[0;36m<module>\u001b[0;34m\u001b[0m\n\u001b[1;32m     33\u001b[0m \u001b[0;34m\u001b[0m\u001b[0m\n\u001b[1;32m     34\u001b[0m     \u001b[0;31m# Set objective\u001b[0m\u001b[0;34m\u001b[0m\u001b[0;34m\u001b[0m\u001b[0;34m\u001b[0m\u001b[0m\n\u001b[0;32m---> 35\u001b[0;31m     \u001b[0mm\u001b[0m\u001b[0;34m.\u001b[0m\u001b[0msetObjective\u001b[0m\u001b[0;34m(\u001b[0m\u001b[0;36m0.5\u001b[0m\u001b[0;34m*\u001b[0m\u001b[0msum\u001b[0m\u001b[0;34m(\u001b[0m\u001b[0mdistance\u001b[0m\u001b[0;34m[\u001b[0m\u001b[0mi\u001b[0m\u001b[0;34m,\u001b[0m\u001b[0mj\u001b[0m\u001b[0;34m]\u001b[0m\u001b[0;34m*\u001b[0m\u001b[0mx\u001b[0m\u001b[0;34m[\u001b[0m\u001b[0mi\u001b[0m\u001b[0;34m,\u001b[0m\u001b[0mj\u001b[0m\u001b[0;34m]\u001b[0m \u001b[0;32mfor\u001b[0m \u001b[0mi\u001b[0m \u001b[0;32min\u001b[0m \u001b[0mI\u001b[0m \u001b[0;32mfor\u001b[0m \u001b[0mj\u001b[0m \u001b[0;32min\u001b[0m \u001b[0mI\u001b[0m\u001b[0;34m)\u001b[0m\u001b[0;34m,\u001b[0m \u001b[0mGRB\u001b[0m\u001b[0;34m.\u001b[0m\u001b[0mMINIMIZE\u001b[0m\u001b[0;34m)\u001b[0m\u001b[0;34m\u001b[0m\u001b[0;34m\u001b[0m\u001b[0m\n\u001b[0m\u001b[1;32m     36\u001b[0m \u001b[0;34m\u001b[0m\u001b[0m\n\u001b[1;32m     37\u001b[0m     \u001b[0;31m# Add constraint:\u001b[0m\u001b[0;34m\u001b[0m\u001b[0;34m\u001b[0m\u001b[0;34m\u001b[0m\u001b[0m\n",
      "\u001b[0;32mlinexpr.pxi\u001b[0m in \u001b[0;36mgurobipy.LinExpr.__add__\u001b[0;34m()\u001b[0m\n",
      "\u001b[0;32mlinexpr.pxi\u001b[0m in \u001b[0;36mgurobipy.LinExpr.__init__\u001b[0;34m()\u001b[0m\n",
      "\u001b[0;32m~/anaconda3/lib/python3.6/abc.py\u001b[0m in \u001b[0;36m__instancecheck__\u001b[0;34m(cls, instance)\u001b[0m\n\u001b[1;32m    181\u001b[0m         \u001b[0;34m\"\"\"Override for isinstance(instance, cls).\"\"\"\u001b[0m\u001b[0;34m\u001b[0m\u001b[0;34m\u001b[0m\u001b[0m\n\u001b[1;32m    182\u001b[0m         \u001b[0;31m# Inline the cache checking\u001b[0m\u001b[0;34m\u001b[0m\u001b[0;34m\u001b[0m\u001b[0;34m\u001b[0m\u001b[0m\n\u001b[0;32m--> 183\u001b[0;31m         \u001b[0msubclass\u001b[0m \u001b[0;34m=\u001b[0m \u001b[0minstance\u001b[0m\u001b[0;34m.\u001b[0m\u001b[0m__class__\u001b[0m\u001b[0;34m\u001b[0m\u001b[0;34m\u001b[0m\u001b[0m\n\u001b[0m\u001b[1;32m    184\u001b[0m         \u001b[0;32mif\u001b[0m \u001b[0msubclass\u001b[0m \u001b[0;32min\u001b[0m \u001b[0mcls\u001b[0m\u001b[0;34m.\u001b[0m\u001b[0m_abc_cache\u001b[0m\u001b[0;34m:\u001b[0m\u001b[0;34m\u001b[0m\u001b[0;34m\u001b[0m\u001b[0m\n\u001b[1;32m    185\u001b[0m             \u001b[0;32mreturn\u001b[0m \u001b[0;32mTrue\u001b[0m\u001b[0;34m\u001b[0m\u001b[0;34m\u001b[0m\u001b[0m\n",
      "\u001b[0;31mKeyboardInterrupt\u001b[0m: "
     ]
    }
   ],
   "source": [
    "# Random instances:\n",
    "\n",
    "# this constructs a random distance matrix\n",
    "def rand_distance(n):\n",
    "    A  = np.random.randint(100, size=(n, n))\n",
    "    A = A + A + 1\n",
    "    for i in range(n):\n",
    "        A[i,i] = 0\n",
    "    return A\n",
    "        \n",
    "\n",
    "# Time each run\n",
    "sizes = [10*i for i in range(1,31)] + [1000]\n",
    "times = np.zeros([len(sizes)])\n",
    "\n",
    "for j in range(len(sizes)):\n",
    "    n = sizes[j]\n",
    "    distance = rand_distance(n)\n",
    "    \n",
    "    ################\n",
    "    # Start the timer\n",
    "    start = time.clock()\n",
    "    ################\n",
    "\n",
    "    # Create a new model\n",
    "    m = Model(\"NFL-Rivals Model\")\n",
    "    m.setParam(\"OutputFlag\",0)\n",
    "    # Create set\n",
    "    I = range(n)\n",
    "    \n",
    "    # Create variables\n",
    "    x = m.addVars(I,I, vtype=GRB.BINARY, name=\"x\")\n",
    "\n",
    "    # Set objective\n",
    "    m.setObjective(0.5*sum(distance[i,j]*x[i,j] for i in I for j in I), GRB.MINIMIZE)\n",
    "\n",
    "    # Add constraint: \n",
    "    m.addConstr(sum(x[i,j] for i in I for j in I) >= n-1, \"at least (n-1)/2 pairs\")\n",
    "\n",
    "    #Add constraint: no city connected to itself\n",
    "    m.addConstrs((x[i,i]==0 for i in I), \"No city connected to itself\")\n",
    "\n",
    "    #Add constraint: At most 1 rival for each city\n",
    "    m.addConstrs((sum(x[i,j] for j in I) <=1 for i in I), \"Rivals\")\n",
    "\n",
    "    # Optimize model\n",
    "    m.optimize()\n",
    "\n",
    "################\n",
    "    #End the timer\n",
    "    end = time.clock()\n",
    "    times[j] = end - start\n",
    "################\n",
    "\n",
    "plt.scatter(sizes,times)\n",
    "plt.xlabel(\"Size of instance\")\n",
    "plt.ylabel(\"Time to solve instance\")\n",
    "plt.title(\"Solution times of Matching Problem\");\n",
    "\n",
    "# create 1000 equally spaced points between -10 and 10\n",
    "x = np.linspace(0, n, 1000)\n",
    "\n",
    "# calculate the y value for each element of the x vector\n",
    "y = 0.00004*x**2 \n",
    "\n",
    "\n",
    "plt.plot(x, y, color = \"green\")\n",
    "plt.legend([\"y = 0.00004*x**2\",\"solve times\"])\n"
   ]
  },
  {
   "cell_type": "code",
   "execution_count": null,
   "metadata": {},
   "outputs": [],
   "source": [
    "# Previously computed run times\n",
    "times = [7.50100000e-02, 1.86590000e-02, 3.76530000e-02, 6.55640000e-02,\n",
    "       9.24220000e-02, 1.31711000e-01, 1.79213000e-01, 2.29969000e-01,\n",
    "       7.13742000e-01, 3.89647000e-01, 4.98939000e-01, 5.94722000e-01,\n",
    "       6.87888000e-01, 7.57945000e-01, 8.96916000e-01, 1.03419300e+00,\n",
    "       1.22052400e+00, 1.70963900e+00, 1.57993900e+00, 1.71035200e+00,\n",
    "       2.00378200e+00, 2.38150600e+00, 2.29569300e+00, 2.45584700e+00,\n",
    "       2.97761100e+00, 2.90555300e+00, 3.56060900e+00, 3.51006500e+00,\n",
    "       3.78492300e+00, 4.37639300e+00, 1.74059483e+02]"
   ]
  },
  {
   "cell_type": "code",
   "execution_count": null,
   "metadata": {},
   "outputs": [],
   "source": [
    "sizes = [  10,   20,   30,   40,   50,   60,   70,   80,   90,  100,  110,\n",
    "        120,  130,  140,  150,  160,  170,  180,  190,  200,  210,  220,\n",
    "        230,  240,  250,  260,  270,  280,  290,  300, 1000]"
   ]
  },
  {
   "cell_type": "code",
   "execution_count": null,
   "metadata": {},
   "outputs": [],
   "source": [
    "plt.scatter(sizes[:-1],times[:-1])\n",
    "plt.xlabel(\"Size of instance\")\n",
    "plt.ylabel(\"Time to solve instance\")\n",
    "plt.title(\"Solution times of Matching Problem\");\n",
    "\n",
    "# create 1000 equally spaced points between -10 and 10\n",
    "x = np.linspace(0, sizes[-2], 1000)\n",
    "\n",
    "# calculate the y value for each element of the x vector\n",
    "y = 0.00004*x**2 \n",
    "\n",
    "\n",
    "plt.plot(x, y, color = \"green\")\n",
    "plt.legend([\"y = 0.00004*x**2\",\"solve times\"])"
   ]
  },
  {
   "cell_type": "code",
   "execution_count": null,
   "metadata": {},
   "outputs": [],
   "source": [
    "plt.scatter(sizes,times)\n",
    "plt.xlabel(\"Size of instance\")\n",
    "plt.ylabel(\"Time to solve instance\")\n",
    "plt.title(\"Solution times of Matching Problem\");\n",
    "\n",
    "# create 1000 equally spaced points between -10 and 10\n",
    "x = np.linspace(0, n, 1000)\n",
    "\n",
    "# calculate the y value for each element of the x vector\n",
    "y = 0.00004*x**2 \n",
    "\n",
    "\n",
    "plt.plot(x, y, color = \"green\")\n",
    "plt.legend([\"y = 0.00004*x**2\",\"solve times\"])"
   ]
  },
  {
   "cell_type": "code",
   "execution_count": null,
   "metadata": {},
   "outputs": [],
   "source": []
  }
 ],
 "metadata": {
  "kernelspec": {
   "display_name": "Python 3",
   "language": "python",
   "name": "python3"
  },
  "language_info": {
   "codemirror_mode": {
    "name": "ipython",
    "version": 3
   },
   "file_extension": ".py",
   "mimetype": "text/x-python",
   "name": "python",
   "nbconvert_exporter": "python",
   "pygments_lexer": "ipython3",
   "version": "3.6.8"
  }
 },
 "nbformat": 4,
 "nbformat_minor": 2
}
