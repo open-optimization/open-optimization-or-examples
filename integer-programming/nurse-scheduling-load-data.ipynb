{
 "cells": [
  {
   "cell_type": "markdown",
   "metadata": {},
   "source": [
    "## Load nurse scheduling data"
   ]
  },
  {
   "cell_type": "code",
   "execution_count": 7,
   "metadata": {},
   "outputs": [
    {
     "name": "stdout",
     "output_type": "stream",
     "text": [
      "Schedule Types Info:\n",
      "{'Schedule 1': ['Monday', 'Tuesday', 'Sunday'], 'Schedule 2': ['Thursday', 'Friday', 'Saturday'], 'Schedule 3': ['Monday', 'Wednesday', 'Sunday'], 'Schedule 4': ['Wednesday', 'Friday', 'Saturday'], 'Schedule 5': ['Tuesday', 'Thursday', 'Friday']}\n",
      "\n",
      "Nurses Required Info:\n",
      "{'Monday': 20, 'Tuesday': 25, 'Wednesday': 26, 'Thursday': 26, 'Friday': 30, 'Saturday': 30, 'Sunday': 35}\n",
      "\n",
      "Weekly Wages Info:\n",
      "{'Schedule 1': 525, 'Schedule 2': 470, 'Schedule 3': 550, 'Schedule 4': 500, 'Schedule 5': 425}\n"
     ]
    }
   ],
   "source": [
    "import pandas as pd\n",
    "\n",
    "def load_schedule_info(filename):\n",
    "    # Load the csv into a DataFrame\n",
    "    df = pd.read_csv(filename, index_col='Day')\n",
    "\n",
    "    # Extracting days for each Schedule Type\n",
    "    schedule_types = {}\n",
    "    for col in df.columns[:-1]:  # exclude the 'Nurses Required' column\n",
    "        schedule_types[col] = df.index[df[col] == 'X'].tolist()\n",
    "\n",
    "    # Extracting number of nurses required for each day\n",
    "    # Ignoring the last row related to weekly wages\n",
    "    nurses_required_df = df.drop('Weekly wage', errors='ignore')\n",
    "    nurses_required = nurses_required_df['Nurses Required'].dropna().astype(int).to_dict()\n",
    "\n",
    "    # Extracting weekly wages\n",
    "    weekly_wages_row = df.loc['Weekly wage']\n",
    "    weekly_wages = weekly_wages_row.dropna().astype(int).to_dict()\n",
    "\n",
    "    return schedule_types, nurses_required, weekly_wages\n",
    "\n",
    "filename = \"nurse-scheduling-data.csv\"\n",
    "schedule_types, nurses_required, weekly_wages = load_schedule_info(filename)\n",
    "\n",
    "print(\"Schedule Types Info:\")\n",
    "print(schedule_types)\n",
    "\n",
    "print(\"\\nNurses Required Info:\")\n",
    "print(nurses_required)\n",
    "\n",
    "print(\"\\nWeekly Wages Info:\")\n",
    "print(weekly_wages)\n"
   ]
  },
  {
   "cell_type": "code",
   "execution_count": null,
   "metadata": {},
   "outputs": [],
   "source": []
  }
 ],
 "metadata": {
  "kernelspec": {
   "display_name": "Python 3",
   "language": "python",
   "name": "python3"
  },
  "language_info": {
   "codemirror_mode": {
    "name": "ipython",
    "version": 3
   },
   "file_extension": ".py",
   "mimetype": "text/x-python",
   "name": "python",
   "nbconvert_exporter": "python",
   "pygments_lexer": "ipython3",
   "version": "3.7.7"
  }
 },
 "nbformat": 4,
 "nbformat_minor": 4
}
