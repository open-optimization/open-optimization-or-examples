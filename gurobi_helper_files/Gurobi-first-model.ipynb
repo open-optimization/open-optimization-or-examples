{
 "cells": [
  {
   "cell_type": "markdown",
   "metadata": {},
   "source": [
    "\n",
    "\n",
    " This example formulates and solves the following simple MIP model:\n",
    "        $$\\max \\ \\ x +   y + 2 z$$\n",
    "        $$s.t. \\ \\ x + 2 y + 3 z \\leq 4$$\n",
    "        $$x +   y       \\geq 1$$\n",
    "        $$x, y, z \\in \\{0,1\\}$$"
   ]
  },
  {
   "cell_type": "code",
   "execution_count": 1,
   "metadata": {},
   "outputs": [
    {
     "name": "stdout",
     "output_type": "stream",
     "text": [
      "Set parameter Username\n",
      "Academic license - for non-commercial use only - expires 2023-08-26\n",
      "Gurobi Optimizer version 9.5.2 build v9.5.2rc0 (mac64[x86])\n",
      "Thread count: 6 physical cores, 12 logical processors, using up to 12 threads\n",
      "Optimize a model with 2 rows, 3 columns and 5 nonzeros\n",
      "Model fingerprint: 0x98886187\n",
      "Variable types: 0 continuous, 3 integer (3 binary)\n",
      "Coefficient statistics:\n",
      "  Matrix range     [1e+00, 3e+00]\n",
      "  Objective range  [1e+00, 2e+00]\n",
      "  Bounds range     [1e+00, 1e+00]\n",
      "  RHS range        [1e+00, 4e+00]\n",
      "Found heuristic solution: objective 2.0000000\n",
      "Presolve removed 2 rows and 3 columns\n",
      "Presolve time: 0.00s\n",
      "Presolve: All rows and columns removed\n",
      "\n",
      "Explored 0 nodes (0 simplex iterations) in 0.01 seconds (0.00 work units)\n",
      "Thread count was 1 (of 12 available processors)\n",
      "\n",
      "Solution count 2: 3 2 \n",
      "\n",
      "Optimal solution found (tolerance 1.00e-04)\n",
      "Best objective 3.000000000000e+00, best bound 3.000000000000e+00, gap 0.0000%\n",
      "x 1\n",
      "y 0\n",
      "z 1\n",
      "Obj: 3\n"
     ]
    }
   ],
   "source": [
    "\n",
    "from gurobipy import *\n",
    "# Create a new model\n",
    "m = Model(\"mip1\")\n",
    "\n",
    "# Create variables\n",
    "x = m.addVar(vtype=GRB.BINARY, name=\"x\")\n",
    "y = m.addVar(vtype=GRB.BINARY, name=\"y\")\n",
    "z = m.addVar(vtype=GRB.BINARY, name = \"z\")\n",
    "\n",
    "\n",
    "# Set objective\n",
    "m.setObjective(x + y + 2 * z, GRB.MAXIMIZE)\n",
    "\n",
    "# Add constraint: x + 2 y + 3 z <= 4\n",
    "m.addConstr(x + 2 * y + 3 * z <= 4, \"c0\")\n",
    "\n",
    "# Add constraint: x + y >= 1\n",
    "m.addConstr(x + y >= 1, \"c1\")\n",
    "\n",
    "# Optimize model\n",
    "m.optimize()\n",
    "\n",
    "for v in m.getVars():\n",
    "    print('%s %g' % (v.varName, v.x))\n",
    "\n",
    "print('Obj: %g' % m.objVal)\n"
   ]
  },
  {
   "cell_type": "code",
   "execution_count": 2,
   "metadata": {},
   "outputs": [],
   "source": [
    "m.write(\"out.mst\")\n",
    "m.write(\"out.sol\")\n",
    "m.write(\"out.lp\")"
   ]
  },
  {
   "cell_type": "markdown",
   "metadata": {},
   "source": [
    "# Use custom display package"
   ]
  },
  {
   "cell_type": "code",
   "execution_count": 3,
   "metadata": {},
   "outputs": [],
   "source": [
    "import display_gurobi as disp_gp"
   ]
  },
  {
   "cell_type": "code",
   "execution_count": 4,
   "metadata": {},
   "outputs": [
    {
     "data": {
      "text/latex": [
       "$\\displaystyle \\textbf{mip1}\\\\ \\begin{array}{lrlr} \\max & 1x+1y+2z\\\\&1x+2y+3z&\\leq 4& \\text{c0}\\\\&1x+1y&\\geq 1& \\text{c1}\\\\\\end{array}$"
      ],
      "text/plain": [
       "<IPython.core.display.Math object>"
      ]
     },
     "execution_count": 4,
     "metadata": {},
     "output_type": "execute_result"
    }
   ],
   "source": [
    "disp_gp.disp_model(m)"
   ]
  },
  {
   "cell_type": "code",
   "execution_count": 5,
   "metadata": {},
   "outputs": [
    {
     "name": "stdout",
     "output_type": "stream",
     "text": [
      "\\textbf{mip1}\\\\ \\begin{array}{lrlr} \\max & 1x+1y+2z\\\\&1x+2y+3z&\\leq 4& \\text{c0}\\\\&1x+1y&\\geq 1& \\text{c1}\\\\\\end{array}\n"
     ]
    }
   ],
   "source": [
    "disp_gp.disp_model(m, latex = True)"
   ]
  },
  {
   "cell_type": "code",
   "execution_count": null,
   "metadata": {},
   "outputs": [],
   "source": []
  }
 ],
 "metadata": {
  "kernelspec": {
   "display_name": "Python 3",
   "language": "python",
   "name": "python3"
  },
  "language_info": {
   "codemirror_mode": {
    "name": "ipython",
    "version": 3
   },
   "file_extension": ".py",
   "mimetype": "text/x-python",
   "name": "python",
   "nbconvert_exporter": "python",
   "pygments_lexer": "ipython3",
   "version": "3.7.7"
  }
 },
 "nbformat": 4,
 "nbformat_minor": 4
}
