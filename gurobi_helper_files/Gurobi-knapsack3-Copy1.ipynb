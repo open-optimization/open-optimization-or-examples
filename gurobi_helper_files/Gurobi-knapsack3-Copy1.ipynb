{
 "cells": [
  {
   "cell_type": "markdown",
   "metadata": {},
   "source": [
    "## Solve the knapsack problem from class"
   ]
  },
  {
   "cell_type": "code",
   "execution_count": 6,
   "metadata": {},
   "outputs": [
    {
     "name": "stdout",
     "output_type": "stream",
     "text": [
      "Gurobi Optimizer version 9.0.0 build v9.0.0rc2 (mac64)\n",
      "Optimize a model with 3 rows, 5 columns and 6 nonzeros\n",
      "Model fingerprint: 0x6402fc7b\n",
      "Variable types: 0 continuous, 5 integer (5 binary)\n",
      "Coefficient statistics:\n",
      "  Matrix range     [1e+00, 1e+00]\n",
      "  Objective range  [1e+00, 5e+00]\n",
      "  Bounds range     [1e+00, 1e+00]\n",
      "  RHS range        [1e+00, 1e+00]\n",
      "Presolve removed 3 rows and 5 columns\n",
      "Presolve time: 0.00s\n",
      "Presolve: All rows and columns removed\n",
      "\n",
      "Explored 0 nodes (0 simplex iterations) in 0.02 seconds\n",
      "Thread count was 1 (of 4 available processors)\n",
      "\n",
      "Solution count 1: 10 \n",
      "\n",
      "Optimal solution found (tolerance 1.00e-04)\n",
      "Best objective 1.000000000000e+01, best bound 1.000000000000e+01, gap 0.0000%\n",
      "x[0] 0\n",
      "x[1] 1\n",
      "x[2] 1\n",
      "x[3] 0\n",
      "x[4] 1\n",
      "Obj: 10\n"
     ]
    }
   ],
   "source": [
    "\n",
    "from gurobipy import *\n",
    "# Create a new model\n",
    "m = Model(\"mip1\")\n",
    "\n",
    "# Create set\n",
    "I = range(5)\n",
    "\n",
    "# Create data\n",
    "c = [1, 2, 3, 4, 5]\n",
    "b = [1,1,1]\n",
    "D = [[1,3],[1,0],[3,4]]\n",
    "\n",
    "# Create variables\n",
    "x = m.addVars(I, vtype=GRB.BINARY, name=\"x\")\n",
    "\n",
    "# Set objective\n",
    "m.setObjective(sum(c[i]*x[i] for i in I), GRB.MAXIMIZE)\n",
    "\n",
    "# Add constraints: sum x_i for i in D_i == 1\n",
    "m.addConstrs( (sum(x[i] for i in D[j]) == b[j]) for j in range(3))\n",
    "\n",
    "# Optimize model\n",
    "m.optimize()\n",
    "\n",
    "for v in m.getVars():\n",
    "    print('%s %g' % (v.varName, v.x))\n",
    "\n",
    "print('Obj: %g' % m.objVal)\n"
   ]
  },
  {
   "cell_type": "code",
   "execution_count": null,
   "metadata": {},
   "outputs": [],
   "source": [
    "\n",
    "from gurobipy import *\n",
    "# Create a new model\n",
    "m = Model(\"mip1\")"
   ]
  },
  {
   "cell_type": "code",
   "execution_count": null,
   "metadata": {},
   "outputs": [],
   "source": [
    "m.write(\"out.mst\")\n",
    "m.write(\"out.sol\")\n",
    "m.write(\"model.lp\")"
   ]
  },
  {
   "cell_type": "code",
   "execution_count": null,
   "metadata": {},
   "outputs": [],
   "source": [
    "D = [[1,3],[1,5],[3,4]]"
   ]
  },
  {
   "cell_type": "code",
   "execution_count": null,
   "metadata": {},
   "outputs": [],
   "source": [
    "? D"
   ]
  },
  {
   "cell_type": "code",
   "execution_count": null,
   "metadata": {},
   "outputs": [],
   "source": [
    "D[0]"
   ]
  },
  {
   "cell_type": "code",
   "execution_count": null,
   "metadata": {},
   "outputs": [],
   "source": [
    "D[0][1]"
   ]
  },
  {
   "cell_type": "code",
   "execution_count": null,
   "metadata": {},
   "outputs": [],
   "source": [
    "import numpy as np\n",
    "d = np.array([[1,3],[1,5],[3,4]])"
   ]
  },
  {
   "cell_type": "code",
   "execution_count": null,
   "metadata": {},
   "outputs": [],
   "source": [
    "d[0,1]"
   ]
  },
  {
   "cell_type": "code",
   "execution_count": null,
   "metadata": {},
   "outputs": [],
   "source": [
    "# Dictionary\n",
    "myDict= {\"Day 1\": [1,3], \"Day 2\": [1,5], \"Day 3\" : [3,4] }\n",
    "myDict.keys()\n",
    "m = Model(\"mip1\")\n",
    "x = m.addVars(myDict.keys(), vtype=GRB.BINARY, name=\"x\")"
   ]
  },
  {
   "cell_type": "code",
   "execution_count": null,
   "metadata": {},
   "outputs": [],
   "source": [
    "x['Day 1']"
   ]
  },
  {
   "cell_type": "code",
   "execution_count": null,
   "metadata": {},
   "outputs": [],
   "source": [
    "d = np.array(D)"
   ]
  },
  {
   "cell_type": "code",
   "execution_count": null,
   "metadata": {},
   "outputs": [],
   "source": [
    "d"
   ]
  },
  {
   "cell_type": "code",
   "execution_count": null,
   "metadata": {},
   "outputs": [],
   "source": []
  }
 ],
 "metadata": {
  "kernelspec": {
   "display_name": "Python 3",
   "language": "python",
   "name": "python3"
  },
  "language_info": {
   "codemirror_mode": {
    "name": "ipython",
    "version": 3
   },
   "file_extension": ".py",
   "mimetype": "text/x-python",
   "name": "python",
   "nbconvert_exporter": "python",
   "pygments_lexer": "ipython3",
   "version": "3.7.7"
  }
 },
 "nbformat": 4,
 "nbformat_minor": 4
}
