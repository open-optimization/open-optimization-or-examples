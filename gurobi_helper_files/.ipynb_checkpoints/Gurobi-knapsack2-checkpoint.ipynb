{
 "cells": [
  {
   "cell_type": "markdown",
   "metadata": {},
   "source": [
    "## Solve the knapsack problem from class"
   ]
  },
  {
   "cell_type": "code",
   "execution_count": 5,
   "metadata": {},
   "outputs": [
    {
     "name": "stdout",
     "output_type": "stream",
     "text": [
      "Gurobi Optimizer version 9.0.0 build v9.0.0rc2 (mac64)\n",
      "Optimize a model with 1 rows, 5 columns and 5 nonzeros\n",
      "Model fingerprint: 0x663b630e\n",
      "Variable types: 0 continuous, 5 integer (5 binary)\n",
      "Coefficient statistics:\n",
      "  Matrix range     [3e+00, 7e+00]\n",
      "  Objective range  [1e+00, 5e+00]\n",
      "  Bounds range     [1e+00, 1e+00]\n",
      "  RHS range        [2e+01, 2e+01]\n",
      "Found heuristic solution: objective 6.0000000\n",
      "Presolve removed 1 rows and 5 columns\n",
      "Presolve time: 0.00s\n",
      "Presolve: All rows and columns removed\n",
      "\n",
      "Explored 0 nodes (0 simplex iterations) in 0.03 seconds\n",
      "Thread count was 1 (of 4 available processors)\n",
      "\n",
      "Solution count 2: 9 \n",
      "\n",
      "Optimal solution found (tolerance 1.00e-04)\n",
      "Best objective 9.000000000000e+00, best bound 9.000000000000e+00, gap 0.0000%\n",
      "x[0] 0\n",
      "x[1] 0\n",
      "x[2] 0\n",
      "x[3] 1\n",
      "x[4] 1\n",
      "Obj: 9\n"
     ]
    }
   ],
   "source": [
    "\n",
    "from gurobipy import *\n",
    "# Create a new model\n",
    "m = Model(\"mip1\")\n",
    "\n",
    "# Create set\n",
    "I = range(5)\n",
    "\n",
    "# Create data\n",
    "c = [1, 2, 3, 4, 5]\n",
    "a = [3, 4, 5 ,6, 7]\n",
    "b = 15\n",
    "\n",
    "# Create variables\n",
    "x = m.addVars(I, vtype=GRB.BINARY, name=\"x\")\n",
    "\n",
    "# Set objective\n",
    "m.setObjective(c[0]*x[0] + c[1]*x[1] + c[2]*x[2]+ c[3]*x[3] + c[4]*x[4] , GRB.MAXIMIZE)\n",
    "\n",
    "# Add constraint: sum a_i x_i <= b\n",
    "m.addConstr(sum(a[i]*x[i] for i in I) <= b, \"c0\")\n",
    "\n",
    "# Optimize model\n",
    "m.optimize()\n",
    "\n",
    "for v in m.getVars():\n",
    "    print('%s %g' % (v.varName, v.x))\n",
    "\n",
    "print('Obj: %g' % m.objVal)\n"
   ]
  },
  {
   "cell_type": "code",
   "execution_count": 6,
   "metadata": {},
   "outputs": [],
   "source": [
    "m.write(\"out.mst\")\n",
    "m.write(\"out.sol\")\n",
    "m.write(\"out.lp\")"
   ]
  },
  {
   "cell_type": "code",
   "execution_count": 7,
   "metadata": {},
   "outputs": [
    {
     "data": {
      "text/plain": [
       "{0: <gurobi.Var x[0] (value 0.0)>,\n",
       " 1: <gurobi.Var x[1] (value 0.0)>,\n",
       " 2: <gurobi.Var x[2] (value 0.0)>,\n",
       " 3: <gurobi.Var x[3] (value 1.0)>,\n",
       " 4: <gurobi.Var x[4] (value 1.0)>}"
      ]
     },
     "execution_count": 7,
     "metadata": {},
     "output_type": "execute_result"
    }
   ],
   "source": [
    "x"
   ]
  },
  {
   "cell_type": "code",
   "execution_count": null,
   "metadata": {},
   "outputs": [],
   "source": []
  }
 ],
 "metadata": {
  "kernelspec": {
   "display_name": "Python 3",
   "language": "python",
   "name": "python3"
  },
  "language_info": {
   "codemirror_mode": {
    "name": "ipython",
    "version": 3
   },
   "file_extension": ".py",
   "mimetype": "text/x-python",
   "name": "python",
   "nbconvert_exporter": "python",
   "pygments_lexer": "ipython3",
   "version": "3.7.4"
  }
 },
 "nbformat": 4,
 "nbformat_minor": 2
}
