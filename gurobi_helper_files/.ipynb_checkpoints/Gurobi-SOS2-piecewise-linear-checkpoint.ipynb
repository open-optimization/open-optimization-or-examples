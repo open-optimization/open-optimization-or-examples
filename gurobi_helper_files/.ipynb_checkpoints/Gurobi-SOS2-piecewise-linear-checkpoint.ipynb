{
 "cells": [
  {
   "cell_type": "markdown",
   "metadata": {},
   "source": [
    "## Solve the knapsack problem from class"
   ]
  },
  {
   "cell_type": "code",
   "execution_count": 11,
   "metadata": {},
   "outputs": [
    {
     "name": "stdout",
     "output_type": "stream",
     "text": [
      "Optimize a model with 3 rows, 6 columns and 12 nonzeros\n",
      "Model has 1 SOS constraint\n",
      "Variable types: 6 continuous, 0 integer (0 binary)\n",
      "Coefficient statistics:\n",
      "  Matrix range     [1e+00, 3e+02]\n",
      "  Objective range  [0e+00, 0e+00]\n",
      "  Bounds range     [1e+00, 3e+00]\n",
      "  RHS range        [1e+00, 1e+00]\n",
      "Presolve removed 1 rows and 4 columns\n",
      "Presolve time: 0.00s\n",
      "Presolved: 2 rows, 2 columns, 3 nonzeros\n",
      "Variable types: 0 continuous, 2 integer (0 binary)\n",
      "\n",
      "Root relaxation: objective -0.000000e+00, 0 iterations, 0.00 seconds\n",
      "\n",
      "    Nodes    |    Current Node    |     Objective Bounds      |     Work\n",
      " Expl Unexpl |  Obj  Depth IntInf | Incumbent    BestBd   Gap | It/Node Time\n",
      "\n",
      "*    0     0               0      -0.0000000   -0.00000  0.00%     -    0s\n",
      "\n",
      "Explored 0 nodes (0 simplex iterations) in 0.04 seconds\n",
      "Thread count was 8 (of 8 available processors)\n",
      "\n",
      "Solution count 1: -0 \n",
      "\n",
      "Optimal solution found (tolerance 1.00e-04)\n",
      "Best objective -0.000000000000e+00, best bound -0.000000000000e+00, gap 0.0000%\n",
      "x 3\n",
      "y 75\n",
      "z[0] 0.4\n",
      "z[1] 0.6\n",
      "z[2] 0\n",
      "z[3] 0\n",
      "Obj: -0\n"
     ]
    }
   ],
   "source": [
    "# from gurobipy import *\n",
    "# Create a new model\n",
    "m = Model(\"SOS-piecewise-linear\")\n",
    "\n",
    "# Create set\n",
    "I = range(4)\n",
    "\n",
    "# Create variables\n",
    "x = m.addVar(name = 'x', lb = 3, ub = 3)\n",
    "y = m.addVar(name = 'y')\n",
    "z = m.addVars(I, vtype=GRB.CONTINUOUS, name=\"z\", lb = 0, ub = 1)\n",
    "\n",
    "# Set objective\n",
    "m.setObjective(0, GRB.MAXIMIZE)\n",
    "\n",
    "# Add constraint: \n",
    "m.addConstr(x - 5*z[1] - 10*z[2] - 15*z[3] == 0, \"c0\")\n",
    "\n",
    "# Add constraint: \n",
    "m.addConstr(y - 125*z[1] - 225*z[2] - 300*z[3] == 0, \"c1\")\n",
    "\n",
    "m.addConstr(sum(z[i] for i in I) == 1)\n",
    "\n",
    "# Add SOS Constraint (At most on of the x_i is non-zero)\n",
    "m.addSOS(GRB.SOS_TYPE2, z, [1,2,3,4])\n",
    "\n",
    "# Optimize model\n",
    "m.optimize()\n",
    "\n",
    "for v in m.getVars():\n",
    "    print('%s %g' % (v.varName, v.x))\n",
    "\n",
    "print('Obj: %g' % m.objVal)\n"
   ]
  },
  {
   "cell_type": "code",
   "execution_count": 12,
   "metadata": {},
   "outputs": [],
   "source": [
    "\n",
    "m.write(\"piecewise.lp\")\n",
    "m.write(\"piercewise.sol\")"
   ]
  },
  {
   "cell_type": "code",
   "execution_count": null,
   "metadata": {},
   "outputs": [],
   "source": []
  }
 ],
 "metadata": {
  "kernelspec": {
   "display_name": "Python 3",
   "language": "python",
   "name": "python3"
  },
  "language_info": {
   "codemirror_mode": {
    "name": "ipython",
    "version": 3
   },
   "file_extension": ".py",
   "mimetype": "text/x-python",
   "name": "python",
   "nbconvert_exporter": "python",
   "pygments_lexer": "ipython3",
   "version": "3.6.8"
  }
 },
 "nbformat": 4,
 "nbformat_minor": 2
}
