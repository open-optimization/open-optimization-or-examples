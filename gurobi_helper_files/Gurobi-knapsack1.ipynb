{
 "cells": [
  {
   "cell_type": "markdown",
   "metadata": {},
   "source": [
    "## Solve the knapsack problem from class"
   ]
  },
  {
   "cell_type": "code",
   "execution_count": 1,
   "metadata": {},
   "outputs": [
    {
     "name": "stdout",
     "output_type": "stream",
     "text": [
      "Using license file /Users/visitor/gurobi.lic\n",
      "Academic license - for non-commercial use only\n",
      "Gurobi Optimizer version 9.0.0 build v9.0.0rc2 (mac64)\n",
      "Optimize a model with 1 rows, 5 columns and 3 nonzeros\n",
      "Model fingerprint: 0x8a6d75a0\n",
      "Variable types: 0 continuous, 5 integer (5 binary)\n",
      "Coefficient statistics:\n",
      "  Matrix range     [1e+00, 1e+00]\n",
      "  Objective range  [1e+00, 1e+00]\n",
      "  Bounds range     [1e+00, 1e+00]\n",
      "  RHS range        [2e+00, 2e+00]\n",
      "Found heuristic solution: objective 4.0000000\n",
      "Presolve removed 1 rows and 5 columns\n",
      "Presolve time: 0.00s\n",
      "Presolve: All rows and columns removed\n",
      "\n",
      "Explored 0 nodes (0 simplex iterations) in 0.02 seconds\n",
      "Thread count was 1 (of 4 available processors)\n",
      "\n",
      "Solution count 1: 4 \n",
      "\n",
      "Optimal solution found (tolerance 1.00e-04)\n",
      "Best objective 4.000000000000e+00, best bound 4.000000000000e+00, gap 0.0000%\n",
      "x1 1\n",
      "x2 1\n",
      "x3 0\n",
      "x4 1\n",
      "x5 1\n",
      "Obj: 4\n"
     ]
    }
   ],
   "source": [
    "\n",
    "from gurobipy import *\n",
    "# Create a new model\n",
    "m = Model(\"mip1\")\n",
    "\n",
    "# Create variables\n",
    "x1 = m.addVar(vtype=GRB.BINARY, name=\"x1\")\n",
    "x2 = m.addVar(vtype=GRB.BINARY, name=\"x2\")\n",
    "x3 = m.addVar(vtype=GRB.BINARY, name=\"x3\")\n",
    "x4 = m.addVar(vtype=GRB.BINARY, name=\"x4\")\n",
    "x5 = m.addVar(vtype=GRB.BINARY, name=\"x5\")\n",
    "\n",
    "# Set objective\n",
    "m.setObjective(x1 + x2 + x3 + x4 + x5, GRB.MAXIMIZE)\n",
    "\n",
    "# Add constraint: x + 2 y + 3 z <= 4\n",
    "m.addConstr(x1 + x2 + x3 <= 2, \"c0\")\n",
    "\n",
    "# Optimize model\n",
    "m.optimize()\n",
    "\n",
    "for v in m.getVars():\n",
    "    print('%s %g' % (v.varName, v.x))\n",
    "\n",
    "print('Obj: %g' % m.objVal)\n"
   ]
  },
  {
   "cell_type": "code",
   "execution_count": 2,
   "metadata": {},
   "outputs": [],
   "source": [
    "m.write(\"out.mst\")\n",
    "m.write(\"out.sol\")\n",
    "m.write(\"out.lp\")"
   ]
  },
  {
   "cell_type": "code",
   "execution_count": null,
   "metadata": {},
   "outputs": [],
   "source": []
  }
 ],
 "metadata": {
  "kernelspec": {
   "display_name": "Python 3",
   "language": "python",
   "name": "python3"
  },
  "language_info": {
   "codemirror_mode": {
    "name": "ipython",
    "version": 3
   },
   "file_extension": ".py",
   "mimetype": "text/x-python",
   "name": "python",
   "nbconvert_exporter": "python",
   "pygments_lexer": "ipython3",
   "version": "3.7.7"
  }
 },
 "nbformat": 4,
 "nbformat_minor": 4
}
