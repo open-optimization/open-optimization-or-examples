{
 "cells": [
  {
   "cell_type": "markdown",
   "metadata": {},
   "source": [
    "# Toy Maker Problem\n",
    "Consider the problem of a toy company that produces toy planes and toy boats. The toy company can sell its planes for $\\$10$ and its boats for $\\$8$ dollars. It costs $\\$3$ in raw materials to make a plane and $\\$2$ in raw materials to make a boat. A plane requires $3$ hours to make and $1$ hour to finish while a boat requires $1$ hour to make and $2$ hours to finish. The toy company knows it will not sell anymore than $35$ planes per week. Further, given the number of workers, the company cannot spend anymore than $160$ hours per week finishing toys and $120$ hours per week making toys. The company wishes to maximize the profit it makes by choosing how much of each toy to produce. "
   ]
  },
  {
   "cell_type": "markdown",
   "metadata": {},
   "source": [
    "### Initial code to check that packages are installed"
   ]
  },
  {
   "cell_type": "code",
   "execution_count": 1,
   "metadata": {},
   "outputs": [],
   "source": [
    "try:\n",
    "    import gurobipy as gp\n",
    "    from gurobipy import GRB\n",
    "\n",
    "except ModuleNotFoundError:\n",
    "    print(\"module 'gurobipy' is not installed\")\n",
    "    !pip install gurobipy # the install function from the question\n",
    "    import gurobipy as gp\n",
    "    from gurobipy import GRB"
   ]
  },
  {
   "cell_type": "markdown",
   "metadata": {},
   "source": [
    "## Model"
   ]
  },
  {
   "cell_type": "code",
   "execution_count": 2,
   "metadata": {},
   "outputs": [
    {
     "name": "stdout",
     "output_type": "stream",
     "text": [
      "Using license file /Users/RobertH/gurobi.lic\n",
      "Academic license - for non-commercial use only - expires 2022-07-22\n",
      "Gurobi Optimizer version 9.1.0 build v9.1.0rc0 (mac64)\n",
      "Thread count: 6 physical cores, 12 logical processors, using up to 12 threads\n",
      "Optimize a model with 3 rows, 2 columns and 5 nonzeros\n",
      "Model fingerprint: 0x8648734d\n",
      "Coefficient statistics:\n",
      "  Matrix range     [1e+00, 3e+00]\n",
      "  Objective range  [6e+00, 7e+00]\n",
      "  Bounds range     [0e+00, 0e+00]\n",
      "  RHS range        [4e+01, 2e+02]\n",
      "Presolve removed 1 rows and 0 columns\n",
      "Presolve time: 0.01s\n",
      "Presolved: 2 rows, 2 columns, 4 nonzeros\n",
      "\n",
      "Iteration    Objective       Primal Inf.    Dual Inf.      Time\n",
      "       0    7.2000000e+02   1.997975e+01   0.000000e+00      0s\n",
      "       2    5.4400000e+02   0.000000e+00   0.000000e+00      0s\n",
      "\n",
      "Solved in 2 iterations and 0.01 seconds\n",
      "Optimal objective  5.440000000e+02\n",
      "\n",
      "-------- Solution Details --------\n",
      "\n",
      "Objective Function Value: 544.0\n",
      "\tThis is the optimal objective function value\n",
      "\n",
      "Solution:\n",
      "\t x_1 = 16.0\n",
      "\t x_2 = 72.0\n"
     ]
    }
   ],
   "source": [
    "\n",
    "myModel = gp.Model(\"OptModel\")\n",
    "# decvar: x_1\n",
    "x_1 = myModel.addVar(lb=0, vtype=GRB.CONTINUOUS, name=\"x_1\")\n",
    "\n",
    "# decvar: x_2\n",
    "x_2 = myModel.addVar(lb=0, vtype=GRB.CONTINUOUS, name=\"x_2\")\n",
    "\n",
    "# objective\n",
    "myModel.setObjective((7*x_1) + (6*x_2), GRB.MAXIMIZE)\n",
    "\n",
    "# con: 2\n",
    "myModel.addConstr((3*x_1) + x_2 <= 120)\n",
    "\n",
    "# con: 3\n",
    "myModel.addConstr(x_1 + (2*x_2) <= 160)\n",
    "\n",
    "# con: 4\n",
    "myModel.addConstr(x_1 <= 35)\n",
    "\n",
    "# Solve\n",
    "myModel.optimize()\n",
    "\n",
    "print('\\n-------- Solution Details --------\\n')\n",
    "if (myModel.Status == GRB.INFEASIBLE):\n",
    "\t# No Feasible Solution Exists\n",
    "\tprint('No feasible solution exists.')\n",
    "\n",
    "\tprint('Computing IIS...')\n",
    "\tmyModel.computeIIS()\n",
    "\t# The following constraint(s) cannot be satisfied:\n",
    "\tfor q in myModel.getConstrs():\n",
    "\t\tif q.IISConstr:\n",
    "\t\t\tprint('%s' % q.constrName)\n",
    "elif (myModel.status == GRB.UNBOUNDED):\n",
    "\tprint('Unbounded.')\n",
    "\n",
    "elif (myModel.status == GRB.INF_OR_UNBD):\n",
    "\tprint('Infeasible or Unbounded.')\n",
    "\n",
    "elif (myModel.Status == GRB.TIME_LIMIT) and (((myModel.modelSense == GRB.MINIMIZE) and (myModel.objVal > 1e30)) or ((myModel.modelSense == GRB.MAXIMIZE) and (myModel.objVal < -1e30))):\n",
    "\t# No Feasible Solution was Found\n",
    "\t# (maybe one exists, but we ran out of time)\n",
    "\tprint('No feasible solution was found within the time limit.')\n",
    "\n",
    "else:\n",
    "\t# A Feasible Solution was Found\n",
    "\tprint('Objective Function Value:', myModel.objVal)\n",
    "\n",
    "\tif (myModel.Status == GRB.OPTIMAL):\n",
    "\t\tprint('\\tThis is the optimal objective function value')\n",
    "\telif (myModel.Status == GRB.TIME_LIMIT):\n",
    "\t\tprint('\\tTime limit reached.\\n')\n",
    "\t\tprint('\\tBest Bound:', myModel.ObjBound)\n",
    "\n",
    "\t# Print solution\n",
    "\tprint('\\nSolution:')\n",
    "\tfor var in myModel.getVars():\n",
    "\t\tif (abs(var.X) > myModel.Params.INT_FEAS_TOL):\n",
    "\t\t\t# Only display non-zero values\n",
    "\t\t\tprint('\\t', var.VarName, \"=\", var.X)\n"
   ]
  },
  {
   "cell_type": "code",
   "execution_count": null,
   "metadata": {},
   "outputs": [],
   "source": []
  }
 ],
 "metadata": {
  "kernelspec": {
   "display_name": "Python 3",
   "language": "python",
   "name": "python3"
  },
  "language_info": {
   "codemirror_mode": {
    "name": "ipython",
    "version": 3
   },
   "file_extension": ".py",
   "mimetype": "text/x-python",
   "name": "python",
   "nbconvert_exporter": "python",
   "pygments_lexer": "ipython3",
   "version": "3.7.7"
  }
 },
 "nbformat": 4,
 "nbformat_minor": 4
}
