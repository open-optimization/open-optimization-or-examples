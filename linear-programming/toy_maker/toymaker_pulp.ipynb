{
 "cells": [
  {
   "cell_type": "markdown",
   "metadata": {},
   "source": [
    "# Toy Maker Problem\n",
    "Consider the problem of a toy company that produces toy planes and toy boats. The toy company can sell its planes for $\\$10$ and its boats for $\\$8$ dollars. It costs $\\$3$ in raw materials to make a plane and $\\$2$ in raw materials to make a boat. A plane requires $3$ hours to make and $1$ hour to finish while a boat requires $1$ hour to make and $2$ hours to finish. The toy company knows it will not sell anymore than $35$ planes per week. Further, given the number of workers, the company cannot spend anymore than $160$ hours per week finishing toys and $120$ hours per week making toys. The company wishes to maximize the profit it makes by choosing how much of each toy to produce. "
   ]
  },
  {
   "cell_type": "markdown",
   "metadata": {},
   "source": [
    "### Initial code to check that packages are installed"
   ]
  },
  {
   "cell_type": "code",
   "execution_count": 12,
   "metadata": {},
   "outputs": [],
   "source": [
    "try:\n",
    "    from pulp import *\n",
    "    #print(\"module 'pulp' is installed\")\n",
    "except ModuleNotFoundError:\n",
    "    print(\"module 'mutagen' is not installed\")\n",
    "    !pip install pulp # the install function from the question\n",
    "    from pulp import *"
   ]
  },
  {
   "cell_type": "markdown",
   "metadata": {},
   "source": [
    "## Model"
   ]
  },
  {
   "cell_type": "code",
   "execution_count": 15,
   "metadata": {},
   "outputs": [
    {
     "name": "stdout",
     "output_type": "stream",
     "text": [
      "\n",
      "Optimization Status:\n",
      "\t Optimal\n",
      "\n",
      "Objective Function Value:\n",
      "\t 544.0\n",
      "\n",
      "Decision Variable Values:\n",
      "\t x_1 = 16.0\n",
      "\t x_2 = 72.0\n"
     ]
    }
   ],
   "source": [
    "import pulp\n",
    "\n",
    "myModel = pulp.LpProblem(\"model\", pulp.LpMaximize)\n",
    "\n",
    "# decvar: x_1\n",
    "x_1 = pulp.LpVariable(\"x_1\", lowBound=0, cat=pulp.LpContinuous)\n",
    "\n",
    "# decvar: x_2\n",
    "x_2 = pulp.LpVariable(\"x_2\", lowBound=0, cat=pulp.LpContinuous)\n",
    "\n",
    "# objective\n",
    "myModel += 7*x_1 + 6*x_2\n",
    "\n",
    "# con: 2\n",
    "myModel += 3*x_1 + x_2 <= 120\n",
    "\n",
    "# con: 3\n",
    "myModel += x_1 + 2*x_2 <= 160\n",
    "\n",
    "# con: 4\n",
    "myModel += x_1 <= 35\n",
    "\n",
    "status = myModel.solve()\n",
    "\n",
    "print(\"\\nOptimization Status:\")\n",
    "print(\"\\t\", pulp.LpStatus[status])\n",
    "\n",
    "print(\"\\nObjective Function Value:\")\n",
    "print(\"\\t\", pulp.value(myModel.objective))\n",
    "\n",
    "print(\"\\nDecision Variable Values:\")\n",
    "for var in myModel.variables():\n",
    "    print(\"\\t\", var.name, \"=\", var.varValue)\n"
   ]
  },
  {
   "cell_type": "code",
   "execution_count": 16,
   "metadata": {},
   "outputs": [
    {
     "data": {
      "text/plain": [
       "model:\n",
       "MAXIMIZE\n",
       "7*x_1 + 6*x_2 + 0\n",
       "SUBJECT TO\n",
       "_C1: 3 x_1 + x_2 <= 120\n",
       "\n",
       "_C2: x_1 + 2 x_2 <= 160\n",
       "\n",
       "_C3: x_1 <= 35\n",
       "\n",
       "VARIABLES\n",
       "x_1 Continuous\n",
       "x_2 Continuous"
      ]
     },
     "execution_count": 16,
     "metadata": {},
     "output_type": "execute_result"
    }
   ],
   "source": [
    "myModel"
   ]
  },
  {
   "cell_type": "code",
   "execution_count": null,
   "metadata": {},
   "outputs": [],
   "source": []
  }
 ],
 "metadata": {
  "kernelspec": {
   "display_name": "Python 3",
   "language": "python",
   "name": "python3"
  },
  "language_info": {
   "codemirror_mode": {
    "name": "ipython",
    "version": 3
   },
   "file_extension": ".py",
   "mimetype": "text/x-python",
   "name": "python",
   "nbconvert_exporter": "python",
   "pygments_lexer": "ipython3",
   "version": "3.7.7"
  }
 },
 "nbformat": 4,
 "nbformat_minor": 4
}
