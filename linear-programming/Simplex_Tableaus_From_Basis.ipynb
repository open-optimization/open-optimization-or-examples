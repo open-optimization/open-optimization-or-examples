{
  "nbformat": 4,
  "nbformat_minor": 0,
  "metadata": {
    "colab": {
      "provenance": []
    },
    "kernelspec": {
      "name": "python3",
      "display_name": "Python 3"
    },
    "language_info": {
      "name": "python"
    }
  },
  "cells": [
    {
      "cell_type": "markdown",
      "source": [
        "# Simplex Tableau Calculator\n",
        "\n",
        "This code was created to help you generate tableaus without working hard.\n",
        "\n",
        "If you input the matrix A and right hand side b, label the variables, and then choose a basis, it will tell you the tableau at that basis.\n",
        "\n",
        "Run the cell below that says \"Main code - run this cell!\"\n",
        "\n",
        "Then go below and input the data for your problem.  Then you can proceed as the example below for generating the tableaus."
      ],
      "metadata": {
        "id": "jODDxE0t25TW"
      }
    },
    {
      "cell_type": "code",
      "execution_count": 23,
      "metadata": {
        "id": "Mdnb5fLC2FDt"
      },
      "outputs": [],
      "source": [
        "# Main code - run this cell!\n",
        "\n",
        "import numpy as np\n",
        "\n",
        "def format_number(x):\n",
        "    \"\"\"\n",
        "    Format the number x as an integer if it is very close to an integer,\n",
        "    otherwise format with 2 decimal places.\n",
        "    \"\"\"\n",
        "    if abs(x - round(x)) < 1e-10:\n",
        "        return f\"{int(round(x))}\"\n",
        "    else:\n",
        "        return f\"{x:.2f}\"\n",
        "\n",
        "def format_terms(row, nonbasic, var_names):\n",
        "    \"\"\"\n",
        "    Given a tableau row, a list of nonbasic indices, and variable names,\n",
        "    return a string representing the distributed sum\n",
        "    \\(\\sum_{j\\in \\text{nonbasic}} (-a_{ij})\\,x_j\\),\n",
        "    with the negative sign multiplied in.\n",
        "\n",
        "    In this updated version, even the first term will show a leading + if positive.\n",
        "\n",
        "    For example, if after distribution the nonbasic coefficients are\n",
        "      [-1, 2],\n",
        "    this returns a string like: \"- x + 2y\".\n",
        "    \"\"\"\n",
        "    terms = []\n",
        "    for j in nonbasic:\n",
        "        new_coef = -row[j]  # distribute the negative sign\n",
        "        if abs(new_coef) < 1e-10:\n",
        "            continue\n",
        "        # Omit the number if its absolute value is 1.\n",
        "        if np.isclose(abs(new_coef), 1.0):\n",
        "            coef_str = \"\"\n",
        "        else:\n",
        "            coef_str = format_number(abs(new_coef))\n",
        "        term = f\"{coef_str}{var_names[j]}\"\n",
        "        terms.append((new_coef, term))\n",
        "\n",
        "    expr = \"\"\n",
        "    for idx, (coef, term) in enumerate(terms):\n",
        "        # Always show a leading sign\n",
        "        sign = \"+\" if coef >= 0 else \"-\"\n",
        "        if idx == 0:\n",
        "            expr += f\"{sign} {term}\"\n",
        "        else:\n",
        "            expr += f\" {sign} {term}\"\n",
        "    return expr\n",
        "\n",
        "def tableau_to_lp_latex_aligned(tableau, basis_indices, var_names):\n",
        "    \"\"\"\n",
        "    Given a fully pivoted tableau, a basis (list of variable indices),\n",
        "    and variable names, return a LaTeX string that formats the LP.\n",
        "    \"\"\"\n",
        "    m, n = tableau.shape\n",
        "    lines = []\n",
        "\n",
        "    # Identify all variable indices and nonbasic indices\n",
        "    all_indices = set(range(n-1))\n",
        "    basic_set = set(basis_indices)\n",
        "    nonbasic = sorted(list(all_indices - basic_set))\n",
        "\n",
        "    # --- Objective function ---\n",
        "    obj_const = format_number(tableau[-1, -1])\n",
        "    obj_terms = format_terms(tableau[-1, :], nonbasic, var_names)\n",
        "    obj_expr = obj_terms if obj_const == \"0\" and obj_terms else f\"{obj_const}\" + ((\" \" + obj_terms) if obj_terms else \"\")\n",
        "    lines.append(f\"\\\\text{{Maximize}}\\\\quad & {obj_expr} \\\\\\\\\")\n",
        "\n",
        "    # --- Constraints ---\n",
        "    cons_lines = []\n",
        "    for i in range(m-1):\n",
        "        basic_var = var_names[basis_indices[i]]  # Get variable name\n",
        "        rhs = format_number(tableau[i, -1])\n",
        "        cons_terms = format_terms(tableau[i, :], nonbasic, var_names)\n",
        "        expr = f\"{rhs}\" + ((\" \" + cons_terms) if cons_terms else \"\")\n",
        "        cons_lines.append(f\"& {basic_var} = {expr},\\\\\\\\ \")\n",
        "\n",
        "    lines.append(\"\\\\text{subject to}\\\\quad \" + cons_lines[0])\n",
        "    for cl in cons_lines[1:]:\n",
        "        lines.append(cl)\n",
        "\n",
        "    all_vars = \", \".join(var_names)\n",
        "    lines.append(f\"& {all_vars} \\\\ge 0.\")\n",
        "\n",
        "    return (\n",
        "        \"\\n\"\n",
        "        \"\\\\begin{aligned}\\n\"\n",
        "        + \"\\n\".join(lines) +\n",
        "        \"\\n\\\\end{aligned}\\n\"\n",
        "    )\n",
        "\n",
        "\n",
        "def compute_pivoted_tableau(tableau, basis, var_names):\n",
        "    \"\"\"\n",
        "    Given an initial tableau and a basis list of variable names,\n",
        "    compute the pivoted tableau corresponding to the provided basis.\n",
        "\n",
        "    Parameters:\n",
        "      tableau   : numpy array of shape (m,n)\n",
        "      basis     : list of variable names (e.g., [\"x\", \"y\", \"s_1\"])\n",
        "      var_names : list of all variable names in order\n",
        "\n",
        "    Returns:\n",
        "      new_tableau : numpy array of shape (m,n) representing the pivoted tableau.\n",
        "    \"\"\"\n",
        "    # Convert basis variable names to their column indices\n",
        "    basis_indices = [var_names.index(var) for var in basis]\n",
        "\n",
        "    m, n = tableau.shape\n",
        "    m_constraints = m - 1\n",
        "    n_vars = n - 1\n",
        "\n",
        "    A = tableau[:m_constraints, :n_vars]\n",
        "    b = tableau[:m_constraints, -1]\n",
        "\n",
        "    c = tableau[-1, :n_vars]\n",
        "    z0 = tableau[-1, -1]\n",
        "\n",
        "    B = A[:, basis_indices]  # Select basic columns\n",
        "    try:\n",
        "        B_inv = np.linalg.inv(B)\n",
        "    except np.linalg.LinAlgError:\n",
        "        raise ValueError(\"The chosen basis does not form an invertible matrix.\")\n",
        "\n",
        "    new_A = B_inv @ A\n",
        "    new_b = B_inv @ b\n",
        "\n",
        "    c_B = c[basis_indices]\n",
        "    new_c = c - (np.array(c_B) @ B_inv @ A)\n",
        "\n",
        "    new_z = z0 - (np.array(c_B) @ B_inv @ b)\n",
        "\n",
        "    new_tableau = np.zeros_like(tableau)\n",
        "    new_tableau[:m_constraints, :n_vars] = new_A\n",
        "    new_tableau[:m_constraints, -1] = new_b\n",
        "    new_tableau[-1, :n_vars] = new_c\n",
        "    new_tableau[-1, -1] = new_z\n",
        "\n",
        "    return new_tableau, basis_indices\n",
        "\n",
        "\n",
        "from IPython.display import display, Math\n",
        "\n",
        "def tableau_print(tableau, basis, var_names):\n",
        "    \"\"\"\n",
        "    Print the tableau nicely formatted in Jupyter Notebook, using LaTeX.\n",
        "\n",
        "    Parameters:\n",
        "      tableau   : numpy array representing the simplex tableau\n",
        "      basis     : list of basic variable names (e.g., [\"x\", \"y\", \"s_1\"])\n",
        "      var_names : list of all variable names in the tableau order\n",
        "    \"\"\"\n",
        "    new_tableau, basis_indices = compute_pivoted_tableau(tableau, basis, var_names)\n",
        "    latex_str = tableau_to_lp_latex_aligned(new_tableau, basis_indices, var_names)\n",
        "    display(Math(latex_str))\n",
        "\n",
        "\n",
        "    # Print BFS and objective value\n",
        "    solution_dict, obj_value = extract_bfs_and_objective(new_tableau, basis_indices, var_names)\n",
        "\n",
        "    basic_vars = {var_names[i]: solution_dict[var_names[i]] for i in basis_indices}\n",
        "    nonbasic_vars = {var_names[i]: solution_dict[var_names[i]] for i in range(len(var_names)) if i not in basis_indices}\n",
        "\n",
        "    print(\"\\n\")\n",
        "    print(\"Basic Feasible Solution:\")\n",
        "    print(\"  Basic Variables:\")\n",
        "    for var, val in basic_vars.items():\n",
        "        print(f\"    {var} = {val:.2f}\")\n",
        "    print(\"  Nonbasic Variables:\")\n",
        "    for var, val in nonbasic_vars.items():\n",
        "        print(f\"    {var} = {val:.2f}\")\n",
        "\n",
        "    print(f\"\\nObjective Value: {obj_value:.2f}\")\n",
        "\n",
        "\n",
        "\n",
        "def extract_bfs_and_objective(tableau, basis_indices, var_names):\n",
        "    \"\"\"\n",
        "    Given a final tableau and basis indices, extract the basic feasible solution and objective value.\n",
        "\n",
        "    Parameters:\n",
        "      tableau       : final tableau (after pivoting)\n",
        "      basis_indices : list of indices of basic variables\n",
        "      var_names     : list of variable names in order\n",
        "\n",
        "    Returns:\n",
        "      solution_dict : dictionary of variable values (including zeros for nonbasic)\n",
        "      obj_value     : float (optimal objective value)\n",
        "    \"\"\"\n",
        "    m, n = tableau.shape\n",
        "    n_vars = n -1\n",
        "\n",
        "    solution = np.zeros(n_vars)\n",
        "    for row_idx, var_idx in enumerate(basis_indices):\n",
        "        solution[var_idx] = tableau[row_idx, -1]\n",
        "\n",
        "    obj_value = tableau[-1, -1]\n",
        "\n",
        "    solution_dict = {var_names[i]: solution[i] for i in range(n_vars)}\n",
        "    return solution_dict, obj_value\n",
        "\n",
        "\n",
        "def construct_tableau(A, b, c, z0=0):\n",
        "    \"\"\"\n",
        "    Construct a simplex tableau from separate A, b, c, and z0 inputs.\n",
        "\n",
        "    Parameters:\n",
        "      A : 2D numpy array of shape (m, n)\n",
        "      b : 1D numpy array of shape (m,)\n",
        "      c : 1D numpy array of shape (n,)\n",
        "      z0 : scalar (objective constant term)\n",
        "\n",
        "    Returns:\n",
        "      tableau : numpy array of shape (m+1, n+1)\n",
        "    \"\"\"\n",
        "    A = np.array(A)\n",
        "    b = np.array(b).reshape(-1)\n",
        "    c = np.array(c).reshape(-1)\n",
        "\n",
        "    m, n = A.shape\n",
        "\n",
        "    tableau = np.zeros((m+1, n+1))\n",
        "    tableau[:m, :n] = A\n",
        "    tableau[:m, -1] = b\n",
        "    tableau[-1, :n] = -c\n",
        "    tableau[-1, -1] = z0\n",
        "\n",
        "    return tableau\n",
        "\n"
      ]
    },
    {
      "cell_type": "markdown",
      "source": [
        "### 🧮 Example Linear Program\n",
        "\n",
        "We are solving a **standard form maximization** linear program with two decision variables $ x $ and $ y $, and three constraints representing resource limits. The slack variables $ s_1, s_2, s_3 $ are introduced to convert inequalities into equalities.\n",
        "\n",
        "#### 🔧 Decision Variables\n",
        "\n",
        "- $ x $: amount of good 1 to produce  \n",
        "- $ y $: amount of good 2 to produce  \n",
        "- $ s_1, s_2, s_3 $: slack variables for each constraint (represent unused resources)\n",
        "\n",
        "#### 📈 Objective Function\n",
        "\n",
        "We aim to **maximize profit**:\n",
        "\n",
        "\n",
        "$$ \\text{Maximize} \\quad 2x + 3y $$\n",
        "\n",
        "\n",
        "####  Constraints\n",
        "\n",
        "$$\n",
        "\\begin{aligned}\n",
        "x + y + s_1 &= 9 & \\quad \\text{(Constraint 1: e.g., labor hours)} \\\\\n",
        "2x + y + s_2 &= 16 & \\quad \\text{(Constraint 2: e.g., flour pounds)} \\\\\n",
        "x + 2y + s_3 &= 14 & \\quad \\text{(Constraint 3: e.g., sugar pounds)}\n",
        "\\end{aligned}\n",
        "$$\n",
        "\n",
        "####  Nonnegativity\n",
        "\n",
        "\n",
        "$$x, y, s_1, s_2, s_3 \\geq 0$$\n",
        "\n",
        "\n",
        "---\n",
        "\n",
        "This LP models a **resource allocation problem**, such as deciding how many units of two products to produce (say, pies and cakes) given limited resources (labor, flour, sugar), where each product provides a certain profit.\n"
      ],
      "metadata": {
        "id": "vPvMwRbkVJm5"
      }
    },
    {
      "cell_type": "markdown",
      "source": [
        "# Input Data Here\n",
        "Input the data corresponding to the problem, then run the cell to see the dictionary."
      ],
      "metadata": {
        "id": "d5vqsjZ32QLm"
      }
    },
    {
      "cell_type": "code",
      "source": [
        "# Define A, b, c for a sample LP\n",
        "A = np.array([\n",
        "    [1, 1, 1, 0, 0],\n",
        "    [2, 1, 0, 1, 0],\n",
        "    [1, 2, 0, 0, 1]\n",
        "])\n",
        "b = np.array([9, 16, 14])\n",
        "c = np.array([2, 3, 0, 0, 0])\n",
        "z0 = 0\n",
        "\n",
        "# Construct tableau\n",
        "tableau = construct_tableau(A, b, c, z0)\n",
        "\n",
        "# Variable names and chosen initial basis\n",
        "var_names = [\"x\", \"y\", \"s_1\", \"s_2\", \"s_3\"]\n",
        "basis = [\"s_1\", \"s_2\", \"s_3\"]\n",
        "\n",
        "# Display LP in LaTeX form\n",
        "tableau_print(tableau, basis, var_names)\n"
      ],
      "metadata": {
        "colab": {
          "base_uri": "https://localhost:8080/",
          "height": 352
        },
        "id": "v37AQ00MUp6J",
        "outputId": "52d09fd4-5bd7-44a2-839a-6d595f25a7a5"
      },
      "execution_count": 24,
      "outputs": [
        {
          "output_type": "display_data",
          "data": {
            "text/plain": [
              "<IPython.core.display.Math object>"
            ],
            "text/latex": "$\\displaystyle \n\\begin{aligned}\n\\text{Maximize}\\quad & + 2x + 3y \\\\\n\\text{subject to}\\quad & s_1 = 9 - x - y,\\\\ \n& s_2 = 16 - 2x - y,\\\\ \n& s_3 = 14 - x - 2y,\\\\ \n& x, y, s_1, s_2, s_3 \\ge 0.\n\\end{aligned}\n$"
          },
          "metadata": {}
        },
        {
          "output_type": "stream",
          "name": "stdout",
          "text": [
            "\n",
            "\n",
            "Basic Feasible Solution:\n",
            "  Basic Variables:\n",
            "    s_1 = 9.00\n",
            "    s_2 = 16.00\n",
            "    s_3 = 14.00\n",
            "  Nonbasic Variables:\n",
            "    x = 0.00\n",
            "    y = 0.00\n",
            "\n",
            "Objective Value: 0.00\n"
          ]
        }
      ]
    },
    {
      "cell_type": "markdown",
      "source": [
        "Pivot, let $y$ enter and let $s_3$ leave."
      ],
      "metadata": {
        "id": "EXEUK7naVsaw"
      }
    },
    {
      "cell_type": "code",
      "source": [
        "basis = [\"s_1\", \"s_2\", \"y\"]\n",
        "\n",
        "# Display LP in LaTeX form\n",
        "tableau_print(tableau, basis, var_names)"
      ],
      "metadata": {
        "colab": {
          "base_uri": "https://localhost:8080/",
          "height": 352
        },
        "id": "nLK14T7bVoCO",
        "outputId": "b9106ee0-f30a-4e93-94d0-c74007fd00a6"
      },
      "execution_count": 25,
      "outputs": [
        {
          "output_type": "display_data",
          "data": {
            "text/plain": [
              "<IPython.core.display.Math object>"
            ],
            "text/latex": "$\\displaystyle \n\\begin{aligned}\n\\text{Maximize}\\quad & 21 + 0.50x - 1.50s_3 \\\\\n\\text{subject to}\\quad & s_1 = 2 - 0.50x + 0.50s_3,\\\\ \n& s_2 = 9 - 1.50x + 0.50s_3,\\\\ \n& y = 7 - 0.50x - 0.50s_3,\\\\ \n& x, y, s_1, s_2, s_3 \\ge 0.\n\\end{aligned}\n$"
          },
          "metadata": {}
        },
        {
          "output_type": "stream",
          "name": "stdout",
          "text": [
            "\n",
            "\n",
            "Basic Feasible Solution:\n",
            "  Basic Variables:\n",
            "    s_1 = 2.00\n",
            "    s_2 = 9.00\n",
            "    y = 7.00\n",
            "  Nonbasic Variables:\n",
            "    x = 0.00\n",
            "    s_3 = 0.00\n",
            "\n",
            "Objective Value: 21.00\n"
          ]
        }
      ]
    },
    {
      "cell_type": "markdown",
      "source": [
        "Pivot, let $x$ enter and let $s_1$ leave"
      ],
      "metadata": {
        "id": "EC7x8GVsV06w"
      }
    },
    {
      "cell_type": "code",
      "source": [
        "basis = [\"x\", \"s_2\", \"y\"]\n",
        "\n",
        "# Display LP in LaTeX form\n",
        "tableau_print(tableau, basis, var_names)"
      ],
      "metadata": {
        "colab": {
          "base_uri": "https://localhost:8080/",
          "height": 352
        },
        "id": "pZFs1Ff6VrBt",
        "outputId": "8a125414-eda6-4bc0-9a00-437eb564d7da"
      },
      "execution_count": 26,
      "outputs": [
        {
          "output_type": "display_data",
          "data": {
            "text/plain": [
              "<IPython.core.display.Math object>"
            ],
            "text/latex": "$\\displaystyle \n\\begin{aligned}\n\\text{Maximize}\\quad & 23 - s_1 - s_3 \\\\\n\\text{subject to}\\quad & x = 4 - 2s_1 + s_3,\\\\ \n& s_2 = 3 + 3s_1 - s_3,\\\\ \n& y = 5 + s_1 - s_3,\\\\ \n& x, y, s_1, s_2, s_3 \\ge 0.\n\\end{aligned}\n$"
          },
          "metadata": {}
        },
        {
          "output_type": "stream",
          "name": "stdout",
          "text": [
            "\n",
            "\n",
            "Basic Feasible Solution:\n",
            "  Basic Variables:\n",
            "    x = 4.00\n",
            "    s_2 = 3.00\n",
            "    y = 5.00\n",
            "  Nonbasic Variables:\n",
            "    s_1 = 0.00\n",
            "    s_3 = 0.00\n",
            "\n",
            "Objective Value: 23.00\n"
          ]
        }
      ]
    },
    {
      "cell_type": "markdown",
      "source": [
        "We reached an optimal solution!"
      ],
      "metadata": {
        "id": "GjqOws5KV9jc"
      }
    },
    {
      "cell_type": "markdown",
      "source": [
        "# Infeasible Basis\n",
        "If we choose a basis that is infeasible, we will see that basic feasible solution has negative values."
      ],
      "metadata": {
        "id": "V_7qr7mTWAcD"
      }
    },
    {
      "cell_type": "code",
      "source": [
        "basis = [\"s_1\", \"x\", \"y\"]\n",
        "\n",
        "# Display LP in LaTeX form\n",
        "tableau_print(tableau, basis, var_names)"
      ],
      "metadata": {
        "colab": {
          "base_uri": "https://localhost:8080/",
          "height": 144
        },
        "id": "pkMpSnxhWLzn",
        "outputId": "7abb2c72-2b45-42fc-c419-00e448203f29"
      },
      "execution_count": 8,
      "outputs": [
        {
          "output_type": "display_data",
          "data": {
            "text/plain": [
              "<IPython.core.display.Math object>"
            ],
            "text/latex": "$\\displaystyle \n\\begin{aligned}\n\\text{Maximize}\\quad & 24 - 0.33s_2 - 1.33s_3 \\\\\n\\text{subject to}\\quad & s_1 = -1 + 0.33s_2 + 0.33s_3,\\\\ \n& x = 6 - 0.67s_2 + 0.33s_3,\\\\ \n& y = 4 + 0.33s_2 - 0.67s_3,\\\\ \n& x, y, s_1, s_2, s_3 \\ge 0.\n\\end{aligned}\n$"
          },
          "metadata": {}
        }
      ]
    },
    {
      "cell_type": "code",
      "source": [],
      "metadata": {
        "id": "GO69gRpma7JQ"
      },
      "execution_count": null,
      "outputs": []
    }
  ]
}