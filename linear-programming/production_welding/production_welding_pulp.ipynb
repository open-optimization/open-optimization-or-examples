{
 "cells": [
  {
   "cell_type": "code",
   "execution_count": null,
   "metadata": {},
   "outputs": [],
   "source": []
  },
  {
   "cell_type": "code",
   "execution_count": 5,
   "metadata": {},
   "outputs": [
    {
     "name": "stdout",
     "output_type": "stream",
     "text": [
      "\n",
      "Optimization Status:\n",
      "\t Optimal\n",
      "\n",
      "Objective Function Value:\n",
      "\t 166.0\n",
      "\n",
      "Decision Variable Values:\n",
      "\t x_1 = 3.0\n",
      "\t x_2 = 7.0\n",
      "\t x_3 = 0.0\n"
     ]
    }
   ],
   "source": [
    "import pulp\n",
    "\n",
    "myModel = pulp.LpProblem(\"model\", pulp.LpMaximize)\n",
    "\n",
    "I = [1,2,3]\n",
    "x = pulp.LpVariable.dicts('x',I, lowBound=0, cat=pulp.LpContinuous)\n",
    "\n",
    "# objective\n",
    "myModel += (18*x[1]) + (16*x[2]) + (10*x[3])\n",
    "\n",
    "# con: 2\n",
    "myModel += ((2*x[1]) + (2*x[2]) + (1*x[3]) <= 21)\n",
    "\n",
    "# con: 3\n",
    "myModel += ((3*x[1]) + (2*x[2]) + (2*x[3]) <= 23)\n",
    "\n",
    "# con: 4\n",
    "myModel += ((1*x[1]) + (2*x[2]) + (1*x[3]) <= 17)\n",
    "\n",
    "status = myModel.solve()\n",
    "\n",
    "print(\"\\nOptimization Status:\")\n",
    "print(\"\\t\", pulp.LpStatus[status])\n",
    "\n",
    "print(\"\\nObjective Function Value:\")\n",
    "print(\"\\t\", pulp.value(myModel.objective))\n",
    "\n",
    "print(\"\\nDecision Variable Values:\")\n",
    "for var in myModel.variables():\n",
    "\tprint(\"\\t\", var.name, \"=\", var.varValue)\n"
   ]
  }
 ],
 "metadata": {
  "kernelspec": {
   "display_name": "Python 3",
   "language": "python",
   "name": "python3"
  },
  "language_info": {
   "codemirror_mode": {
    "name": "ipython",
    "version": 3
   },
   "file_extension": ".py",
   "mimetype": "text/x-python",
   "name": "python",
   "nbconvert_exporter": "python",
   "pygments_lexer": "ipython3",
   "version": "3.7.7"
  }
 },
 "nbformat": 4,
 "nbformat_minor": 4
}
